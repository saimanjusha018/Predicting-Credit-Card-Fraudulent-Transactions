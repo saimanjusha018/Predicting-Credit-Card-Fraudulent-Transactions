{
  "cells": [
    {
      "cell_type": "code",
      "execution_count": 1,
      "metadata": {
        "id": "gkv-ftPgG8ty"
      },
      "outputs": [],
      "source": [
        "## Import the modules\n",
        "import pandas as pd\n",
        "import numpy as np\n",
        "import matplotlib.pyplot as plt\n",
        "import seaborn as sns\n",
        "\n",
        "# Other Libraries\n",
        "from sklearn.model_selection import train_test_split, cross_val_score\n",
        "from sklearn.pipeline import make_pipeline\n",
        "from imblearn.pipeline import make_pipeline as imbalanced_make_pipeline\n",
        "from imblearn.over_sampling import SMOTE\n",
        "from sklearn.metrics import precision_score, recall_score, f1_score, roc_auc_score, accuracy_score, classification_report,confusion_matrix\n",
        "from collections import Counter\n",
        "from sklearn.model_selection import KFold, StratifiedKFold\n",
        "import warnings\n",
        "warnings.filterwarnings(\"ignore\")\n",
        "\n",
        "## ML Models\n",
        "from sklearn.ensemble import RandomForestClassifier, AdaBoostClassifier\n",
        "from sklearn.neighbors import KNeighborsClassifier\n",
        "from sklearn.tree import DecisionTreeClassifier\n",
        "from sklearn.ensemble import GradientBoostingClassifier"
      ]
    },
    {
      "cell_type": "code",
      "execution_count": 2,
      "metadata": {
        "colab": {
          "base_uri": "https://localhost:8080/"
        },
        "id": "yyF4AgUkHtPv",
        "outputId": "d55ffa34-e2f5-4236-ef9a-cf682aa23170"
      },
      "outputs": [
        {
          "output_type": "stream",
          "name": "stdout",
          "text": [
            "Mounted at /content/gdrive\n"
          ]
        }
      ],
      "source": [
        "\n",
        "from google.colab import drive\n",
        "drive.mount('/content/gdrive')\n",
        "     "
      ]
    },
    {
      "cell_type": "code",
      "execution_count": 3,
      "metadata": {
        "colab": {
          "base_uri": "https://localhost:8080/"
        },
        "id": "Oa1rdtX9G8t2",
        "outputId": "45b552d2-3b58-4c80-c913-995ab2c23be9"
      },
      "outputs": [
        {
          "output_type": "stream",
          "name": "stdout",
          "text": [
            "(99776, 31)\n"
          ]
        }
      ],
      "source": [
        "df= pd.read_csv(\"/content/gdrive/MyDrive/Fraud_data/Fraud_Detection.csv\")\n",
        "print(df.shape)"
      ]
    },
    {
      "cell_type": "markdown",
      "metadata": {
        "id": "tIQmnQ3LG8t2"
      },
      "source": [
        "all attributes except for Time and Amount are scaled. So we need to scale the time and amount"
      ]
    },
    {
      "cell_type": "code",
      "execution_count": 4,
      "metadata": {
        "id": "eR9RhW58G8t2"
      },
      "outputs": [],
      "source": [
        "from sklearn.preprocessing import StandardScaler, RobustScaler\n",
        "\n",
        "# RobustScaler is less prone to outliers.\n",
        "\n",
        "std_scaler = StandardScaler()\n",
        "rob_scaler = RobustScaler()"
      ]
    },
    {
      "cell_type": "code",
      "execution_count": 5,
      "metadata": {
        "id": "mVvgPxUqG8t3"
      },
      "outputs": [],
      "source": [
        "df['scaled_amount'] = rob_scaler.fit_transform(df['Amount'].values.reshape(-1,1))\n",
        "df['scaled_time'] = rob_scaler.fit_transform(df['Time'].values.reshape(-1,1))\n",
        "\n",
        "df.drop(['Time','Amount'], axis=1, inplace=True)"
      ]
    },
    {
      "cell_type": "markdown",
      "metadata": {
        "id": "_LTHg-OtG8t3"
      },
      "source": [
        "- Understanding data"
      ]
    },
    {
      "cell_type": "code",
      "execution_count": 6,
      "metadata": {
        "colab": {
          "base_uri": "https://localhost:8080/"
        },
        "id": "YyoU6BMFG8t3",
        "outputId": "e65b68c0-1930-411d-e44c-26796bf0da46"
      },
      "outputs": [
        {
          "output_type": "stream",
          "name": "stdout",
          "text": [
            "No Frauds 99.51 % of the dataset\n",
            "Frauds 0.49 % of the dataset\n"
          ]
        }
      ],
      "source": [
        "# The classes are heavily skewed we need to solve this issue later.\n",
        "print('No Frauds', round(df['Class'].value_counts()[0]/len(df) * 100,2), '% of the dataset')\n",
        "print('Frauds', round(df['Class'].value_counts()[1]/len(df) * 100,2), '% of the dataset')"
      ]
    },
    {
      "cell_type": "code",
      "execution_count": 7,
      "metadata": {
        "colab": {
          "base_uri": "https://localhost:8080/",
          "height": 297
        },
        "id": "tJOySqjyG8t4",
        "outputId": "c821b1ca-d853-46d2-ee72-ca507d1c1cdc"
      },
      "outputs": [
        {
          "output_type": "execute_result",
          "data": {
            "text/plain": [
              "<matplotlib.axes._subplots.AxesSubplot at 0x7f74acff2910>"
            ]
          },
          "metadata": {},
          "execution_count": 7
        },
        {
          "output_type": "display_data",
          "data": {
            "text/plain": [
              "<Figure size 432x288 with 1 Axes>"
            ],
            "image/png": "[encoded data removed]"
          },
          "metadata": {
            "needs_background": "light"
          }
        }
      ],
      "source": [
        "## A visual representation of the above information\n",
        "sns.countplot('Class',data=df,palette=['blue','green'])"
      ]
    },
    {
      "cell_type": "code",
      "execution_count": 8,
      "metadata": {
        "colab": {
          "base_uri": "https://localhost:8080/",
          "height": 393
        },
        "id": "tWAsj9NiG8t4",
        "outputId": "6c45df02-7b21-4cdb-cee2-d990bedbfb2f",
        "scrolled": true
      },
      "outputs": [
        {
          "output_type": "execute_result",
          "data": {
            "text/plain": [
              "                 V1            V2            V3            V4            V5  \\\n",
              "count  99776.000000  99776.000000  99776.000000  99776.000000  99776.000000   \n",
              "mean      -0.270695     -0.024058      0.657125      0.173522     -0.283754   \n",
              "std        1.890413      1.678539      1.406177      1.372090      1.379589   \n",
              "min      -56.407510    -72.715728    -33.680984     -5.172595    -42.147898   \n",
              "25%       -1.031193     -0.597659      0.172367     -0.708895     -0.900604   \n",
              "50%       -0.262837      0.079598      0.750652      0.196889     -0.314849   \n",
              "75%        1.152963      0.740262      1.374722      1.039248      0.250214   \n",
              "max        2.132386     22.057729      4.226108     16.715537     34.801666   \n",
              "\n",
              "                 V6            V7            V8            V9           V10  \\\n",
              "count  99776.000000  99776.000000  99776.000000  99776.000000  99776.000000   \n",
              "mean       0.091063     -0.121257      0.052796     -0.052008     -0.037262   \n",
              "std        1.304693      1.299613      1.268675      1.133966      1.136929   \n",
              "min      -26.160506    -43.557242    -73.216718    -13.434066    -24.588262   \n",
              "25%       -0.650199     -0.602878     -0.137719     -0.702465     -0.499784   \n",
              "50%       -0.158707     -0.070383      0.074152     -0.120310     -0.095873   \n",
              "75%        0.485321      0.414467      0.361241      0.557531      0.437705   \n",
              "max       22.529298     36.677268     20.007208     10.392889     13.249433   \n",
              "\n",
              "       ...           V22           V23           V24           V25  \\\n",
              "count  ...  99776.000000  99776.000000  99776.000000  99776.000000   \n",
              "mean   ...     -0.108665     -0.036607      0.008733      0.131621   \n",
              "std    ...      0.641080      0.638218      0.595000      0.442029   \n",
              "min    ...    -10.933144    -44.807735     -2.836627    -10.295397   \n",
              "25%    ...     -0.531342     -0.176572     -0.324092     -0.132378   \n",
              "50%    ...     -0.083665     -0.049238      0.064647      0.169859   \n",
              "75%    ...      0.309041      0.081874      0.406041      0.419740   \n",
              "max    ...     10.503090     19.002942      4.014444      5.541598   \n",
              "\n",
              "                V26           V27           V28         Class  scaled_amount  \\\n",
              "count  99776.000000  99776.000000  99776.000000  99776.000000   99776.000000   \n",
              "mean       0.026571      0.000296      0.002010      0.004931       0.882000   \n",
              "std        0.494770      0.400861      0.325992      0.070048       3.253856   \n",
              "min       -2.534330     -9.390980     -9.617915      0.000000      -0.322941   \n",
              "25%       -0.325209     -0.062601     -0.005376      0.000000      -0.230514   \n",
              "50%       -0.070415      0.009919      0.023352      0.000000       0.000000   \n",
              "75%        0.300823      0.083486      0.076950      0.000000       0.769486   \n",
              "max        3.517346     12.152401     33.847808      1.000000     240.950288   \n",
              "\n",
              "        scaled_time  \n",
              "count  99776.000000  \n",
              "mean      -0.077924  \n",
              "std        0.783361  \n",
              "min       -1.982150  \n",
              "25%       -0.483757  \n",
              "50%        0.000000  \n",
              "75%        0.516243  \n",
              "max        5.648134  \n",
              "\n",
              "[8 rows x 31 columns]"
            ],
            "text/html": [
              "\n",
              "  <div id=\"df-6e7356e6-4e2e-40b6-aa36-04c20985f94d\">\n",
              "    <div class=\"colab-df-container\">\n",
              "      <div>\n",
              "<style scoped>\n",
              "    .dataframe tbody tr th:only-of-type {\n",
              "        vertical-align: middle;\n",
              "    }\n",
              "\n",
              "    .dataframe tbody tr th {\n",
              "        vertical-align: top;\n",
              "    }\n",
              "\n",
              "    .dataframe thead th {\n",
              "        text-align: right;\n",
              "    }\n",
              "</style>\n",
              "<table border=\"1\" class=\"dataframe\">\n",
              "  <thead>\n",
              "    <tr style=\"text-align: right;\">\n",
              "      <th></th>\n",
              "      <th>V1</th>\n",
              "      <th>V2</th>\n",
              "      <th>V3</th>\n",
              "      <th>V4</th>\n",
              "      <th>V5</th>\n",
              "      <th>V6</th>\n",
              "      <th>V7</th>\n",
              "      <th>V8</th>\n",
              "      <th>V9</th>\n",
              "      <th>V10</th>\n",
              "      <th>...</th>\n",
              "      <th>V22</th>\n",
              "      <th>V23</th>\n",
              "      <th>V24</th>\n",
              "      <th>V25</th>\n",
              "      <th>V26</th>\n",
              "      <th>V27</th>\n",
              "      <th>V28</th>\n",
              "      <th>Class</th>\n",
              "      <th>scaled_amount</th>\n",
              "      <th>scaled_time</th>\n",
              "    </tr>\n",
              "  </thead>\n",
              "  <tbody>\n",
              "    <tr>\n",
              "      <th>count</th>\n",
              "      <td>99776.000000</td>\n",
              "      <td>99776.000000</td>\n",
              "      <td>99776.000000</td>\n",
              "      <td>99776.000000</td>\n",
              "      <td>99776.000000</td>\n",
              "      <td>99776.000000</td>\n",
              "      <td>99776.000000</td>\n",
              "      <td>99776.000000</td>\n",
              "      <td>99776.000000</td>\n",
              "      <td>99776.000000</td>\n",
              "      <td>...</td>\n",
              "      <td>99776.000000</td>\n",
              "      <td>99776.000000</td>\n",
              "      <td>99776.000000</td>\n",
              "      <td>99776.000000</td>\n",
              "      <td>99776.000000</td>\n",
              "      <td>99776.000000</td>\n",
              "      <td>99776.000000</td>\n",
              "      <td>99776.000000</td>\n",
              "      <td>99776.000000</td>\n",
              "      <td>99776.000000</td>\n",
              "    </tr>\n",
              "    <tr>\n",
              "      <th>mean</th>\n",
              "      <td>-0.270695</td>\n",
              "      <td>-0.024058</td>\n",
              "      <td>0.657125</td>\n",
              "      <td>0.173522</td>\n",
              "      <td>-0.283754</td>\n",
              "      <td>0.091063</td>\n",
              "      <td>-0.121257</td>\n",
              "      <td>0.052796</td>\n",
              "      <td>-0.052008</td>\n",
              "      <td>-0.037262</td>\n",
              "      <td>...</td>\n",
              "      <td>-0.108665</td>\n",
              "      <td>-0.036607</td>\n",
              "      <td>0.008733</td>\n",
              "      <td>0.131621</td>\n",
              "      <td>0.026571</td>\n",
              "      <td>0.000296</td>\n",
              "      <td>0.002010</td>\n",
              "      <td>0.004931</td>\n",
              "      <td>0.882000</td>\n",
              "      <td>-0.077924</td>\n",
              "    </tr>\n",
              "    <tr>\n",
              "      <th>std</th>\n",
              "      <td>1.890413</td>\n",
              "      <td>1.678539</td>\n",
              "      <td>1.406177</td>\n",
              "      <td>1.372090</td>\n",
              "      <td>1.379589</td>\n",
              "      <td>1.304693</td>\n",
              "      <td>1.299613</td>\n",
              "      <td>1.268675</td>\n",
              "      <td>1.133966</td>\n",
              "      <td>1.136929</td>\n",
              "      <td>...</td>\n",
              "      <td>0.641080</td>\n",
              "      <td>0.638218</td>\n",
              "      <td>0.595000</td>\n",
              "      <td>0.442029</td>\n",
              "      <td>0.494770</td>\n",
              "      <td>0.400861</td>\n",
              "      <td>0.325992</td>\n",
              "      <td>0.070048</td>\n",
              "      <td>3.253856</td>\n",
              "      <td>0.783361</td>\n",
              "    </tr>\n",
              "    <tr>\n",
              "      <th>min</th>\n",
              "      <td>-56.407510</td>\n",
              "      <td>-72.715728</td>\n",
              "      <td>-33.680984</td>\n",
              "      <td>-5.172595</td>\n",
              "      <td>-42.147898</td>\n",
              "      <td>-26.160506</td>\n",
              "      <td>-43.557242</td>\n",
              "      <td>-73.216718</td>\n",
              "      <td>-13.434066</td>\n",
              "      <td>-24.588262</td>\n",
              "      <td>...</td>\n",
              "      <td>-10.933144</td>\n",
              "      <td>-44.807735</td>\n",
              "      <td>-2.836627</td>\n",
              "      <td>-10.295397</td>\n",
              "      <td>-2.534330</td>\n",
              "      <td>-9.390980</td>\n",
              "      <td>-9.617915</td>\n",
              "      <td>0.000000</td>\n",
              "      <td>-0.322941</td>\n",
              "      <td>-1.982150</td>\n",
              "    </tr>\n",
              "    <tr>\n",
              "      <th>25%</th>\n",
              "      <td>-1.031193</td>\n",
              "      <td>-0.597659</td>\n",
              "      <td>0.172367</td>\n",
              "      <td>-0.708895</td>\n",
              "      <td>-0.900604</td>\n",
              "      <td>-0.650199</td>\n",
              "      <td>-0.602878</td>\n",
              "      <td>-0.137719</td>\n",
              "      <td>-0.702465</td>\n",
              "      <td>-0.499784</td>\n",
              "      <td>...</td>\n",
              "      <td>-0.531342</td>\n",
              "      <td>-0.176572</td>\n",
              "      <td>-0.324092</td>\n",
              "      <td>-0.132378</td>\n",
              "      <td>-0.325209</td>\n",
              "      <td>-0.062601</td>\n",
              "      <td>-0.005376</td>\n",
              "      <td>0.000000</td>\n",
              "      <td>-0.230514</td>\n",
              "      <td>-0.483757</td>\n",
              "    </tr>\n",
              "    <tr>\n",
              "      <th>50%</th>\n",
              "      <td>-0.262837</td>\n",
              "      <td>0.079598</td>\n",
              "      <td>0.750652</td>\n",
              "      <td>0.196889</td>\n",
              "      <td>-0.314849</td>\n",
              "      <td>-0.158707</td>\n",
              "      <td>-0.070383</td>\n",
              "      <td>0.074152</td>\n",
              "      <td>-0.120310</td>\n",
              "      <td>-0.095873</td>\n",
              "      <td>...</td>\n",
              "      <td>-0.083665</td>\n",
              "      <td>-0.049238</td>\n",
              "      <td>0.064647</td>\n",
              "      <td>0.169859</td>\n",
              "      <td>-0.070415</td>\n",
              "      <td>0.009919</td>\n",
              "      <td>0.023352</td>\n",
              "      <td>0.000000</td>\n",
              "      <td>0.000000</td>\n",
              "      <td>0.000000</td>\n",
              "    </tr>\n",
              "    <tr>\n",
              "      <th>75%</th>\n",
              "      <td>1.152963</td>\n",
              "      <td>0.740262</td>\n",
              "      <td>1.374722</td>\n",
              "      <td>1.039248</td>\n",
              "      <td>0.250214</td>\n",
              "      <td>0.485321</td>\n",
              "      <td>0.414467</td>\n",
              "      <td>0.361241</td>\n",
              "      <td>0.557531</td>\n",
              "      <td>0.437705</td>\n",
              "      <td>...</td>\n",
              "      <td>0.309041</td>\n",
              "      <td>0.081874</td>\n",
              "      <td>0.406041</td>\n",
              "      <td>0.419740</td>\n",
              "      <td>0.300823</td>\n",
              "      <td>0.083486</td>\n",
              "      <td>0.076950</td>\n",
              "      <td>0.000000</td>\n",
              "      <td>0.769486</td>\n",
              "      <td>0.516243</td>\n",
              "    </tr>\n",
              "    <tr>\n",
              "      <th>max</th>\n",
              "      <td>2.132386</td>\n",
              "      <td>22.057729</td>\n",
              "      <td>4.226108</td>\n",
              "      <td>16.715537</td>\n",
              "      <td>34.801666</td>\n",
              "      <td>22.529298</td>\n",
              "      <td>36.677268</td>\n",
              "      <td>20.007208</td>\n",
              "      <td>10.392889</td>\n",
              "      <td>13.249433</td>\n",
              "      <td>...</td>\n",
              "      <td>10.503090</td>\n",
              "      <td>19.002942</td>\n",
              "      <td>4.014444</td>\n",
              "      <td>5.541598</td>\n",
              "      <td>3.517346</td>\n",
              "      <td>12.152401</td>\n",
              "      <td>33.847808</td>\n",
              "      <td>1.000000</td>\n",
              "      <td>240.950288</td>\n",
              "      <td>5.648134</td>\n",
              "    </tr>\n",
              "  </tbody>\n",
              "</table>\n",
              "<p>8 rows × 31 columns</p>\n",
              "</div>\n",
              "      <button class=\"colab-df-convert\" onclick=\"convertToInteractive('df-6e7356e6-4e2e-40b6-aa36-04c20985f94d')\"\n",
              "              title=\"Convert this dataframe to an interactive table.\"\n",
              "              style=\"display:none;\">\n",
              "        \n",
              "  <svg xmlns=\"http://www.w3.org/2000/svg\" height=\"24px\"viewBox=\"0 0 24 24\"\n",
              "       width=\"24px\">\n",
              "    <path d=\"M0 0h24v24H0V0z\" fill=\"none\"/>\n",
              "    <path d=\"M18.56 5.44l.94 2.06.94-2.06 2.06-.94-2.06-.94-.94-2.06-.94 2.06-2.06.94zm-11 1L8.5 8.5l.94-2.06 2.06-.94-2.06-.94L8.5 2.5l-.94 2.06-2.06.94zm10 10l.94 2.06.94-2.06 2.06-.94-2.06-.94-.94-2.06-.94 2.06-2.06.94z\"/><path d=\"M17.41 7.96l-1.37-1.37c-.4-.4-.92-.59-1.43-.59-.52 0-1.04.2-1.43.59L10.3 9.45l-7.72 7.72c-.78.78-.78 2.05 0 2.83L4 21.41c.39.39.9.59 1.41.59.51 0 1.02-.2 1.41-.59l7.78-7.78 2.81-2.81c.8-.78.8-2.07 0-2.86zM5.41 20L4 18.59l7.72-7.72 1.47 1.35L5.41 20z\"/>\n",
              "  </svg>\n",
              "      </button>\n",
              "      \n",
              "  <style>\n",
              "    .colab-df-container {\n",
              "      display:flex;\n",
              "      flex-wrap:wrap;\n",
              "      gap: 12px;\n",
              "    }\n",
              "\n",
              "    .colab-df-convert {\n",
              "      background-color: #E8F0FE;\n",
              "      border: none;\n",
              "      border-radius: 50%;\n",
              "      cursor: pointer;\n",
              "      display: none;\n",
              "      fill: #1967D2;\n",
              "      height: 32px;\n",
              "      padding: 0 0 0 0;\n",
              "      width: 32px;\n",
              "    }\n",
              "\n",
              "    .colab-df-convert:hover {\n",
              "      background-color: #E2EBFA;\n",
              "      box-shadow: 0px 1px 2px rgba(60, 64, 67, 0.3), 0px 1px 3px 1px rgba(60, 64, 67, 0.15);\n",
              "      fill: #174EA6;\n",
              "    }\n",
              "\n",
              "    [theme=dark] .colab-df-convert {\n",
              "      background-color: #3B4455;\n",
              "      fill: #D2E3FC;\n",
              "    }\n",
              "\n",
              "    [theme=dark] .colab-df-convert:hover {\n",
              "      background-color: #434B5C;\n",
              "      box-shadow: 0px 1px 3px 1px rgba(0, 0, 0, 0.15);\n",
              "      filter: drop-shadow(0px 1px 2px rgba(0, 0, 0, 0.3));\n",
              "      fill: #FFFFFF;\n",
              "    }\n",
              "  </style>\n",
              "\n",
              "      <script>\n",
              "        const buttonEl =\n",
              "          document.querySelector('#df-6e7356e6-4e2e-40b6-aa36-04c20985f94d button.colab-df-convert');\n",
              "        buttonEl.style.display =\n",
              "          google.colab.kernel.accessAllowed ? 'block' : 'none';\n",
              "\n",
              "        async function convertToInteractive(key) {\n",
              "          const element = document.querySelector('#df-6e7356e6-4e2e-40b6-aa36-04c20985f94d');\n",
              "          const dataTable =\n",
              "            await google.colab.kernel.invokeFunction('convertToInteractive',\n",
              "                                                     [key], {});\n",
              "          if (!dataTable) return;\n",
              "\n",
              "          const docLinkHtml = 'Like what you see? Visit the ' +\n",
              "            '<a target=\"_blank\" href=https://colab.research.google.com/notebooks/data_table.ipynb>data table notebook</a>'\n",
              "            + ' to learn more about interactive tables.';\n",
              "          element.innerHTML = '';\n",
              "          dataTable['output_type'] = 'display_data';\n",
              "          await google.colab.output.renderOutput(dataTable, element);\n",
              "          const docLink = document.createElement('div');\n",
              "          docLink.innerHTML = docLinkHtml;\n",
              "          element.appendChild(docLink);\n",
              "        }\n",
              "      </script>\n",
              "    </div>\n",
              "  </div>\n",
              "  "
            ]
          },
          "metadata": {},
          "execution_count": 8
        }
      ],
      "source": [
        "df.describe(include='all')"
      ]
    },
    {
      "cell_type": "code",
      "execution_count": 9,
      "metadata": {
        "id": "kEkjJieZG8t4"
      },
      "outputs": [],
      "source": [
        "scores = pd.DataFrame(columns=['Model', 'Train_F1_Score', \n",
        "                               'Test_F1_Score'])\n",
        "\n",
        "def get_metrics(train_actual, train_predicted, test_actual, test_predicted, model_description, dataframe):\n",
        "    train_f1score   = f1_score(train_actual, train_predicted, average=\"weighted\")\n",
        "    test_f1score    = f1_score(test_actual, test_predicted, average=\"weighted\")\n",
        "\n",
        "    dataframe       = dataframe.append(pd.Series([model_description, train_f1score,\n",
        "                                                  test_f1score],\n",
        "                                                 index=scores.columns ), \n",
        "                                       ignore_index=True)\n",
        "\n",
        "    return(dataframe)"
      ]
    },
    {
      "cell_type": "code",
      "execution_count": 10,
      "metadata": {
        "colab": {
          "base_uri": "https://localhost:8080/",
          "height": 49
        },
        "id": "8Kym9ya7G8t4",
        "outputId": "fbcd1c86-4e5c-4601-990c-703dd7a364cb"
      },
      "outputs": [
        {
          "output_type": "execute_result",
          "data": {
            "text/plain": [
              "Empty DataFrame\n",
              "Columns: [Model, Train_F1_Score, Test_F1_Score]\n",
              "Index: []"
            ],
            "text/html": [
              "\n",
              "  <div id=\"df-b2150bec-5dba-41b5-aae9-4bb3aa47e1c8\">\n",
              "    <div class=\"colab-df-container\">\n",
              "      <div>\n",
              "<style scoped>\n",
              "    .dataframe tbody tr th:only-of-type {\n",
              "        vertical-align: middle;\n",
              "    }\n",
              "\n",
              "    .dataframe tbody tr th {\n",
              "        vertical-align: top;\n",
              "    }\n",
              "\n",
              "    .dataframe thead th {\n",
              "        text-align: right;\n",
              "    }\n",
              "</style>\n",
              "<table border=\"1\" class=\"dataframe\">\n",
              "  <thead>\n",
              "    <tr style=\"text-align: right;\">\n",
              "      <th></th>\n",
              "      <th>Model</th>\n",
              "      <th>Train_F1_Score</th>\n",
              "      <th>Test_F1_Score</th>\n",
              "    </tr>\n",
              "  </thead>\n",
              "  <tbody>\n",
              "  </tbody>\n",
              "</table>\n",
              "</div>\n",
              "      <button class=\"colab-df-convert\" onclick=\"convertToInteractive('df-b2150bec-5dba-41b5-aae9-4bb3aa47e1c8')\"\n",
              "              title=\"Convert this dataframe to an interactive table.\"\n",
              "              style=\"display:none;\">\n",
              "        \n",
              "  <svg xmlns=\"http://www.w3.org/2000/svg\" height=\"24px\"viewBox=\"0 0 24 24\"\n",
              "       width=\"24px\">\n",
              "    <path d=\"M0 0h24v24H0V0z\" fill=\"none\"/>\n",
              "    <path d=\"M18.56 5.44l.94 2.06.94-2.06 2.06-.94-2.06-.94-.94-2.06-.94 2.06-2.06.94zm-11 1L8.5 8.5l.94-2.06 2.06-.94-2.06-.94L8.5 2.5l-.94 2.06-2.06.94zm10 10l.94 2.06.94-2.06 2.06-.94-2.06-.94-.94-2.06-.94 2.06-2.06.94z\"/><path d=\"M17.41 7.96l-1.37-1.37c-.4-.4-.92-.59-1.43-.59-.52 0-1.04.2-1.43.59L10.3 9.45l-7.72 7.72c-.78.78-.78 2.05 0 2.83L4 21.41c.39.39.9.59 1.41.59.51 0 1.02-.2 1.41-.59l7.78-7.78 2.81-2.81c.8-.78.8-2.07 0-2.86zM5.41 20L4 18.59l7.72-7.72 1.47 1.35L5.41 20z\"/>\n",
              "  </svg>\n",
              "      </button>\n",
              "      \n",
              "  <style>\n",
              "    .colab-df-container {\n",
              "      display:flex;\n",
              "      flex-wrap:wrap;\n",
              "      gap: 12px;\n",
              "    }\n",
              "\n",
              "    .colab-df-convert {\n",
              "      background-color: #E8F0FE;\n",
              "      border: none;\n",
              "      border-radius: 50%;\n",
              "      cursor: pointer;\n",
              "      display: none;\n",
              "      fill: #1967D2;\n",
              "      height: 32px;\n",
              "      padding: 0 0 0 0;\n",
              "      width: 32px;\n",
              "    }\n",
              "\n",
              "    .colab-df-convert:hover {\n",
              "      background-color: #E2EBFA;\n",
              "      box-shadow: 0px 1px 2px rgba(60, 64, 67, 0.3), 0px 1px 3px 1px rgba(60, 64, 67, 0.15);\n",
              "      fill: #174EA6;\n",
              "    }\n",
              "\n",
              "    [theme=dark] .colab-df-convert {\n",
              "      background-color: #3B4455;\n",
              "      fill: #D2E3FC;\n",
              "    }\n",
              "\n",
              "    [theme=dark] .colab-df-convert:hover {\n",
              "      background-color: #434B5C;\n",
              "      box-shadow: 0px 1px 3px 1px rgba(0, 0, 0, 0.15);\n",
              "      filter: drop-shadow(0px 1px 2px rgba(0, 0, 0, 0.3));\n",
              "      fill: #FFFFFF;\n",
              "    }\n",
              "  </style>\n",
              "\n",
              "      <script>\n",
              "        const buttonEl =\n",
              "          document.querySelector('#df-b2150bec-5dba-41b5-aae9-4bb3aa47e1c8 button.colab-df-convert');\n",
              "        buttonEl.style.display =\n",
              "          google.colab.kernel.accessAllowed ? 'block' : 'none';\n",
              "\n",
              "        async function convertToInteractive(key) {\n",
              "          const element = document.querySelector('#df-b2150bec-5dba-41b5-aae9-4bb3aa47e1c8');\n",
              "          const dataTable =\n",
              "            await google.colab.kernel.invokeFunction('convertToInteractive',\n",
              "                                                     [key], {});\n",
              "          if (!dataTable) return;\n",
              "\n",
              "          const docLinkHtml = 'Like what you see? Visit the ' +\n",
              "            '<a target=\"_blank\" href=https://colab.research.google.com/notebooks/data_table.ipynb>data table notebook</a>'\n",
              "            + ' to learn more about interactive tables.';\n",
              "          element.innerHTML = '';\n",
              "          dataTable['output_type'] = 'display_data';\n",
              "          await google.colab.output.renderOutput(dataTable, element);\n",
              "          const docLink = document.createElement('div');\n",
              "          docLink.innerHTML = docLinkHtml;\n",
              "          element.appendChild(docLink);\n",
              "        }\n",
              "      </script>\n",
              "    </div>\n",
              "  </div>\n",
              "  "
            ]
          },
          "metadata": {},
          "execution_count": 10
        }
      ],
      "source": [
        "scores"
      ]
    },
    {
      "cell_type": "code",
      "execution_count": 11,
      "metadata": {
        "id": "efat5TN1G8t5"
      },
      "outputs": [],
      "source": [
        "classifiers={'DT': DecisionTreeClassifier(),\n",
        "'KNN': KNeighborsClassifier(),\n",
        "'RF': RandomForestClassifier(),\n",
        "'GBM':GradientBoostingClassifier()}\n"
      ]
    },
    {
      "cell_type": "code",
      "execution_count": 12,
      "metadata": {
        "id": "CvZLHLGYG8t5"
      },
      "outputs": [],
      "source": [
        "## Making a single train test split and applying multiple models\n",
        "X = df.drop('Class', axis=1)\n",
        "y = df['Class']\n",
        "\n",
        "\n",
        "# This is explicitly used for undersampling.\n",
        "X_train, X_test, y_train, y_test = train_test_split(X, y, test_size=0.3, random_state=123, stratify=y)"
      ]
    },
    {
      "cell_type": "code",
      "execution_count": 13,
      "metadata": {
        "colab": {
          "base_uri": "https://localhost:8080/"
        },
        "id": "hKsSqFmfG8t5",
        "outputId": "73e0cfe0-eb40-4b92-eb78-8745cc2fa6af"
      },
      "outputs": [
        {
          "output_type": "stream",
          "name": "stdout",
          "text": [
            "              precision    recall  f1-score   support\n",
            "\n",
            "           0       1.00      1.00      1.00     69499\n",
            "           1       1.00      1.00      1.00       344\n",
            "\n",
            "    accuracy                           1.00     69843\n",
            "   macro avg       1.00      1.00      1.00     69843\n",
            "weighted avg       1.00      1.00      1.00     69843\n",
            "\n",
            "\n",
            "\n",
            "              precision    recall  f1-score   support\n",
            "\n",
            "           0       1.00      1.00      1.00     29785\n",
            "           1       0.89      0.91      0.90       148\n",
            "\n",
            "    accuracy                           1.00     29933\n",
            "   macro avg       0.94      0.96      0.95     29933\n",
            "weighted avg       1.00      1.00      1.00     29933\n",
            "\n",
            "\n",
            "\n",
            "[[69499     0]\n",
            " [    0   344]]\n",
            "[[29768    17]\n",
            " [   13   135]]\n",
            "              precision    recall  f1-score   support\n",
            "\n",
            "           0       1.00      1.00      1.00     69499\n",
            "           1       0.99      0.86      0.92       344\n",
            "\n",
            "    accuracy                           1.00     69843\n",
            "   macro avg       0.99      0.93      0.96     69843\n",
            "weighted avg       1.00      1.00      1.00     69843\n",
            "\n",
            "\n",
            "\n",
            "              precision    recall  f1-score   support\n",
            "\n",
            "           0       1.00      1.00      1.00     29785\n",
            "           1       0.98      0.83      0.90       148\n",
            "\n",
            "    accuracy                           1.00     29933\n",
            "   macro avg       0.99      0.92      0.95     29933\n",
            "weighted avg       1.00      1.00      1.00     29933\n",
            "\n",
            "\n",
            "\n",
            "[[69495     4]\n",
            " [   49   295]]\n",
            "[[29782     3]\n",
            " [   25   123]]\n",
            "              precision    recall  f1-score   support\n",
            "\n",
            "           0       1.00      1.00      1.00     69499\n",
            "           1       1.00      1.00      1.00       344\n",
            "\n",
            "    accuracy                           1.00     69843\n",
            "   macro avg       1.00      1.00      1.00     69843\n",
            "weighted avg       1.00      1.00      1.00     69843\n",
            "\n",
            "\n",
            "\n",
            "              precision    recall  f1-score   support\n",
            "\n",
            "           0       1.00      1.00      1.00     29785\n",
            "           1       0.97      0.95      0.96       148\n",
            "\n",
            "    accuracy                           1.00     29933\n",
            "   macro avg       0.99      0.97      0.98     29933\n",
            "weighted avg       1.00      1.00      1.00     29933\n",
            "\n",
            "\n",
            "\n",
            "[[69499     0]\n",
            " [    0   344]]\n",
            "[[29781     4]\n",
            " [    8   140]]\n",
            "              precision    recall  f1-score   support\n",
            "\n",
            "           0       1.00      1.00      1.00     69499\n",
            "           1       1.00      1.00      1.00       344\n",
            "\n",
            "    accuracy                           1.00     69843\n",
            "   macro avg       1.00      1.00      1.00     69843\n",
            "weighted avg       1.00      1.00      1.00     69843\n",
            "\n",
            "\n",
            "\n",
            "              precision    recall  f1-score   support\n",
            "\n",
            "           0       1.00      1.00      1.00     29785\n",
            "           1       0.91      0.91      0.91       148\n",
            "\n",
            "    accuracy                           1.00     29933\n",
            "   macro avg       0.95      0.96      0.95     29933\n",
            "weighted avg       1.00      1.00      1.00     29933\n",
            "\n",
            "\n",
            "\n",
            "[[69499     0]\n",
            " [    0   344]]\n",
            "[[29771    14]\n",
            " [   13   135]]\n",
            "CPU times: user 4min 1s, sys: 6.25 s, total: 4min 7s\n",
            "Wall time: 3min 50s\n"
          ]
        }
      ],
      "source": [
        "%%time\n",
        "from sklearn.metrics import confusion_matrix\n",
        "for key, classifier in classifiers.items():\n",
        "    classifier.fit(X_train, y_train)\n",
        "    y_pred_train= classifier.predict(X_train)\n",
        "    y_pred_test=classifier.predict(X_test)\n",
        "    \n",
        "    print(classification_report(y_train, y_pred_train))#digits\n",
        "    print(\"\\n\")\n",
        "    print(classification_report(y_test, y_pred_test))\n",
        "    print(\"\\n\")\n",
        "    print(confusion_matrix(y_train, y_pred_train))\n",
        "    print(confusion_matrix(y_test, y_pred_test))\n",
        "    \n",
        "    scores = get_metrics(y_train, y_pred_train, y_test, y_pred_test, classifier.__class__.__name__, scores)"
      ]
    },
    {
      "cell_type": "code",
      "execution_count": 14,
      "metadata": {
        "colab": {
          "base_uri": "https://localhost:8080/",
          "height": 175
        },
        "id": "3UySgOW-G8t7",
        "outputId": "a843b75b-0775-464d-bc66-b3a1132484a3"
      },
      "outputs": [
        {
          "output_type": "execute_result",
          "data": {
            "text/plain": [
              "                        Model  Train_F1_Score  Test_F1_Score\n",
              "0      DecisionTreeClassifier        1.000000       0.999004\n",
              "1        KNeighborsClassifier        0.999215       0.999027\n",
              "2      RandomForestClassifier        1.000000       0.999596\n",
              "3  GradientBoostingClassifier        1.000000       0.999099"
            ],
            "text/html": [
              "\n",
              "  <div id=\"df-a72777fb-524b-4411-a52c-88fa85e2db58\">\n",
              "    <div class=\"colab-df-container\">\n",
              "      <div>\n",
              "<style scoped>\n",
              "    .dataframe tbody tr th:only-of-type {\n",
              "        vertical-align: middle;\n",
              "    }\n",
              "\n",
              "    .dataframe tbody tr th {\n",
              "        vertical-align: top;\n",
              "    }\n",
              "\n",
              "    .dataframe thead th {\n",
              "        text-align: right;\n",
              "    }\n",
              "</style>\n",
              "<table border=\"1\" class=\"dataframe\">\n",
              "  <thead>\n",
              "    <tr style=\"text-align: right;\">\n",
              "      <th></th>\n",
              "      <th>Model</th>\n",
              "      <th>Train_F1_Score</th>\n",
              "      <th>Test_F1_Score</th>\n",
              "    </tr>\n",
              "  </thead>\n",
              "  <tbody>\n",
              "    <tr>\n",
              "      <th>0</th>\n",
              "      <td>DecisionTreeClassifier</td>\n",
              "      <td>1.000000</td>\n",
              "      <td>0.999004</td>\n",
              "    </tr>\n",
              "    <tr>\n",
              "      <th>1</th>\n",
              "      <td>KNeighborsClassifier</td>\n",
              "      <td>0.999215</td>\n",
              "      <td>0.999027</td>\n",
              "    </tr>\n",
              "    <tr>\n",
              "      <th>2</th>\n",
              "      <td>RandomForestClassifier</td>\n",
              "      <td>1.000000</td>\n",
              "      <td>0.999596</td>\n",
              "    </tr>\n",
              "    <tr>\n",
              "      <th>3</th>\n",
              "      <td>GradientBoostingClassifier</td>\n",
              "      <td>1.000000</td>\n",
              "      <td>0.999099</td>\n",
              "    </tr>\n",
              "  </tbody>\n",
              "</table>\n",
              "</div>\n",
              "      <button class=\"colab-df-convert\" onclick=\"convertToInteractive('df-a72777fb-524b-4411-a52c-88fa85e2db58')\"\n",
              "              title=\"Convert this dataframe to an interactive table.\"\n",
              "              style=\"display:none;\">\n",
              "        \n",
              "  <svg xmlns=\"http://www.w3.org/2000/svg\" height=\"24px\"viewBox=\"0 0 24 24\"\n",
              "       width=\"24px\">\n",
              "    <path d=\"M0 0h24v24H0V0z\" fill=\"none\"/>\n",
              "    <path d=\"M18.56 5.44l.94 2.06.94-2.06 2.06-.94-2.06-.94-.94-2.06-.94 2.06-2.06.94zm-11 1L8.5 8.5l.94-2.06 2.06-.94-2.06-.94L8.5 2.5l-.94 2.06-2.06.94zm10 10l.94 2.06.94-2.06 2.06-.94-2.06-.94-.94-2.06-.94 2.06-2.06.94z\"/><path d=\"M17.41 7.96l-1.37-1.37c-.4-.4-.92-.59-1.43-.59-.52 0-1.04.2-1.43.59L10.3 9.45l-7.72 7.72c-.78.78-.78 2.05 0 2.83L4 21.41c.39.39.9.59 1.41.59.51 0 1.02-.2 1.41-.59l7.78-7.78 2.81-2.81c.8-.78.8-2.07 0-2.86zM5.41 20L4 18.59l7.72-7.72 1.47 1.35L5.41 20z\"/>\n",
              "  </svg>\n",
              "      </button>\n",
              "      \n",
              "  <style>\n",
              "    .colab-df-container {\n",
              "      display:flex;\n",
              "      flex-wrap:wrap;\n",
              "      gap: 12px;\n",
              "    }\n",
              "\n",
              "    .colab-df-convert {\n",
              "      background-color: #E8F0FE;\n",
              "      border: none;\n",
              "      border-radius: 50%;\n",
              "      cursor: pointer;\n",
              "      display: none;\n",
              "      fill: #1967D2;\n",
              "      height: 32px;\n",
              "      padding: 0 0 0 0;\n",
              "      width: 32px;\n",
              "    }\n",
              "\n",
              "    .colab-df-convert:hover {\n",
              "      background-color: #E2EBFA;\n",
              "      box-shadow: 0px 1px 2px rgba(60, 64, 67, 0.3), 0px 1px 3px 1px rgba(60, 64, 67, 0.15);\n",
              "      fill: #174EA6;\n",
              "    }\n",
              "\n",
              "    [theme=dark] .colab-df-convert {\n",
              "      background-color: #3B4455;\n",
              "      fill: #D2E3FC;\n",
              "    }\n",
              "\n",
              "    [theme=dark] .colab-df-convert:hover {\n",
              "      background-color: #434B5C;\n",
              "      box-shadow: 0px 1px 3px 1px rgba(0, 0, 0, 0.15);\n",
              "      filter: drop-shadow(0px 1px 2px rgba(0, 0, 0, 0.3));\n",
              "      fill: #FFFFFF;\n",
              "    }\n",
              "  </style>\n",
              "\n",
              "      <script>\n",
              "        const buttonEl =\n",
              "          document.querySelector('#df-a72777fb-524b-4411-a52c-88fa85e2db58 button.colab-df-convert');\n",
              "        buttonEl.style.display =\n",
              "          google.colab.kernel.accessAllowed ? 'block' : 'none';\n",
              "\n",
              "        async function convertToInteractive(key) {\n",
              "          const element = document.querySelector('#df-a72777fb-524b-4411-a52c-88fa85e2db58');\n",
              "          const dataTable =\n",
              "            await google.colab.kernel.invokeFunction('convertToInteractive',\n",
              "                                                     [key], {});\n",
              "          if (!dataTable) return;\n",
              "\n",
              "          const docLinkHtml = 'Like what you see? Visit the ' +\n",
              "            '<a target=\"_blank\" href=https://colab.research.google.com/notebooks/data_table.ipynb>data table notebook</a>'\n",
              "            + ' to learn more about interactive tables.';\n",
              "          element.innerHTML = '';\n",
              "          dataTable['output_type'] = 'display_data';\n",
              "          await google.colab.output.renderOutput(dataTable, element);\n",
              "          const docLink = document.createElement('div');\n",
              "          docLink.innerHTML = docLinkHtml;\n",
              "          element.appendChild(docLink);\n",
              "        }\n",
              "      </script>\n",
              "    </div>\n",
              "  </div>\n",
              "  "
            ]
          },
          "metadata": {},
          "execution_count": 14
        }
      ],
      "source": [
        "\n",
        "scores"
      ]
    },
    {
      "cell_type": "code",
      "execution_count": 15,
      "metadata": {
        "colab": {
          "base_uri": "https://localhost:8080/",
          "height": 207
        },
        "id": "fhsXpPBBG8t8",
        "outputId": "2107e71d-fd84-455d-8562-974e5ec363ed"
      },
      "outputs": [
        {
          "output_type": "execute_result",
          "data": {
            "text/plain": [
              "             V1        V2        V3        V4        V5        V6        V7  \\\n",
              "Class                                                                         \n",
              "0     -0.256258  0.075790  0.756234  0.188732 -0.312874 -0.155814 -0.067831   \n",
              "1     -2.342497  2.717869 -5.075257  4.177147 -1.522962 -1.424616 -3.034402   \n",
              "\n",
              "             V8        V9       V10       V11       V12       V13      V14  \\\n",
              "Class                                                                        \n",
              "0      0.073412 -0.116305 -0.093690  0.177925  0.114471 -0.007628  0.07992   \n",
              "1      0.621508 -2.208768 -4.578825  3.586218 -5.502530 -0.065566 -6.72972   \n",
              "\n",
              "            V15       V16       V17       V18       V19       V20       V21  \\\n",
              "Class                                                                         \n",
              "0      0.300030  0.068608 -0.000202 -0.085559 -0.027319 -0.024729 -0.058015   \n",
              "1     -0.057227 -3.549795 -5.302949 -1.664346  0.646807  0.284693  0.592146   \n",
              "\n",
              "            V22       V23       V24       V25       V26       V27       V28  \\\n",
              "Class                                                                         \n",
              "0     -0.084088 -0.049193  0.065023  0.170118 -0.070763  0.009674  0.023283   \n",
              "1      0.048434 -0.073135 -0.060795  0.088371  0.004321  0.394926  0.146344   \n",
              "\n",
              "       scaled_amount  scaled_time  \n",
              "Class                              \n",
              "0           0.001105    -0.001702  \n",
              "1          -0.209402     1.402739  "
            ],
            "text/html": [
              "\n",
              "  <div id=\"df-95745a88-3fd0-43bf-ba83-5eb23473906c\">\n",
              "    <div class=\"colab-df-container\">\n",
              "      <div>\n",
              "<style scoped>\n",
              "    .dataframe tbody tr th:only-of-type {\n",
              "        vertical-align: middle;\n",
              "    }\n",
              "\n",
              "    .dataframe tbody tr th {\n",
              "        vertical-align: top;\n",
              "    }\n",
              "\n",
              "    .dataframe thead th {\n",
              "        text-align: right;\n",
              "    }\n",
              "</style>\n",
              "<table border=\"1\" class=\"dataframe\">\n",
              "  <thead>\n",
              "    <tr style=\"text-align: right;\">\n",
              "      <th></th>\n",
              "      <th>V1</th>\n",
              "      <th>V2</th>\n",
              "      <th>V3</th>\n",
              "      <th>V4</th>\n",
              "      <th>V5</th>\n",
              "      <th>V6</th>\n",
              "      <th>V7</th>\n",
              "      <th>V8</th>\n",
              "      <th>V9</th>\n",
              "      <th>V10</th>\n",
              "      <th>V11</th>\n",
              "      <th>V12</th>\n",
              "      <th>V13</th>\n",
              "      <th>V14</th>\n",
              "      <th>V15</th>\n",
              "      <th>V16</th>\n",
              "      <th>V17</th>\n",
              "      <th>V18</th>\n",
              "      <th>V19</th>\n",
              "      <th>V20</th>\n",
              "      <th>V21</th>\n",
              "      <th>V22</th>\n",
              "      <th>V23</th>\n",
              "      <th>V24</th>\n",
              "      <th>V25</th>\n",
              "      <th>V26</th>\n",
              "      <th>V27</th>\n",
              "      <th>V28</th>\n",
              "      <th>scaled_amount</th>\n",
              "      <th>scaled_time</th>\n",
              "    </tr>\n",
              "    <tr>\n",
              "      <th>Class</th>\n",
              "      <th></th>\n",
              "      <th></th>\n",
              "      <th></th>\n",
              "      <th></th>\n",
              "      <th></th>\n",
              "      <th></th>\n",
              "      <th></th>\n",
              "      <th></th>\n",
              "      <th></th>\n",
              "      <th></th>\n",
              "      <th></th>\n",
              "      <th></th>\n",
              "      <th></th>\n",
              "      <th></th>\n",
              "      <th></th>\n",
              "      <th></th>\n",
              "      <th></th>\n",
              "      <th></th>\n",
              "      <th></th>\n",
              "      <th></th>\n",
              "      <th></th>\n",
              "      <th></th>\n",
              "      <th></th>\n",
              "      <th></th>\n",
              "      <th></th>\n",
              "      <th></th>\n",
              "      <th></th>\n",
              "      <th></th>\n",
              "      <th></th>\n",
              "      <th></th>\n",
              "    </tr>\n",
              "  </thead>\n",
              "  <tbody>\n",
              "    <tr>\n",
              "      <th>0</th>\n",
              "      <td>-0.256258</td>\n",
              "      <td>0.075790</td>\n",
              "      <td>0.756234</td>\n",
              "      <td>0.188732</td>\n",
              "      <td>-0.312874</td>\n",
              "      <td>-0.155814</td>\n",
              "      <td>-0.067831</td>\n",
              "      <td>0.073412</td>\n",
              "      <td>-0.116305</td>\n",
              "      <td>-0.093690</td>\n",
              "      <td>0.177925</td>\n",
              "      <td>0.114471</td>\n",
              "      <td>-0.007628</td>\n",
              "      <td>0.07992</td>\n",
              "      <td>0.300030</td>\n",
              "      <td>0.068608</td>\n",
              "      <td>-0.000202</td>\n",
              "      <td>-0.085559</td>\n",
              "      <td>-0.027319</td>\n",
              "      <td>-0.024729</td>\n",
              "      <td>-0.058015</td>\n",
              "      <td>-0.084088</td>\n",
              "      <td>-0.049193</td>\n",
              "      <td>0.065023</td>\n",
              "      <td>0.170118</td>\n",
              "      <td>-0.070763</td>\n",
              "      <td>0.009674</td>\n",
              "      <td>0.023283</td>\n",
              "      <td>0.001105</td>\n",
              "      <td>-0.001702</td>\n",
              "    </tr>\n",
              "    <tr>\n",
              "      <th>1</th>\n",
              "      <td>-2.342497</td>\n",
              "      <td>2.717869</td>\n",
              "      <td>-5.075257</td>\n",
              "      <td>4.177147</td>\n",
              "      <td>-1.522962</td>\n",
              "      <td>-1.424616</td>\n",
              "      <td>-3.034402</td>\n",
              "      <td>0.621508</td>\n",
              "      <td>-2.208768</td>\n",
              "      <td>-4.578825</td>\n",
              "      <td>3.586218</td>\n",
              "      <td>-5.502530</td>\n",
              "      <td>-0.065566</td>\n",
              "      <td>-6.72972</td>\n",
              "      <td>-0.057227</td>\n",
              "      <td>-3.549795</td>\n",
              "      <td>-5.302949</td>\n",
              "      <td>-1.664346</td>\n",
              "      <td>0.646807</td>\n",
              "      <td>0.284693</td>\n",
              "      <td>0.592146</td>\n",
              "      <td>0.048434</td>\n",
              "      <td>-0.073135</td>\n",
              "      <td>-0.060795</td>\n",
              "      <td>0.088371</td>\n",
              "      <td>0.004321</td>\n",
              "      <td>0.394926</td>\n",
              "      <td>0.146344</td>\n",
              "      <td>-0.209402</td>\n",
              "      <td>1.402739</td>\n",
              "    </tr>\n",
              "  </tbody>\n",
              "</table>\n",
              "</div>\n",
              "      <button class=\"colab-df-convert\" onclick=\"convertToInteractive('df-95745a88-3fd0-43bf-ba83-5eb23473906c')\"\n",
              "              title=\"Convert this dataframe to an interactive table.\"\n",
              "              style=\"display:none;\">\n",
              "        \n",
              "  <svg xmlns=\"http://www.w3.org/2000/svg\" height=\"24px\"viewBox=\"0 0 24 24\"\n",
              "       width=\"24px\">\n",
              "    <path d=\"M0 0h24v24H0V0z\" fill=\"none\"/>\n",
              "    <path d=\"M18.56 5.44l.94 2.06.94-2.06 2.06-.94-2.06-.94-.94-2.06-.94 2.06-2.06.94zm-11 1L8.5 8.5l.94-2.06 2.06-.94-2.06-.94L8.5 2.5l-.94 2.06-2.06.94zm10 10l.94 2.06.94-2.06 2.06-.94-2.06-.94-.94-2.06-.94 2.06-2.06.94z\"/><path d=\"M17.41 7.96l-1.37-1.37c-.4-.4-.92-.59-1.43-.59-.52 0-1.04.2-1.43.59L10.3 9.45l-7.72 7.72c-.78.78-.78 2.05 0 2.83L4 21.41c.39.39.9.59 1.41.59.51 0 1.02-.2 1.41-.59l7.78-7.78 2.81-2.81c.8-.78.8-2.07 0-2.86zM5.41 20L4 18.59l7.72-7.72 1.47 1.35L5.41 20z\"/>\n",
              "  </svg>\n",
              "      </button>\n",
              "      \n",
              "  <style>\n",
              "    .colab-df-container {\n",
              "      display:flex;\n",
              "      flex-wrap:wrap;\n",
              "      gap: 12px;\n",
              "    }\n",
              "\n",
              "    .colab-df-convert {\n",
              "      background-color: #E8F0FE;\n",
              "      border: none;\n",
              "      border-radius: 50%;\n",
              "      cursor: pointer;\n",
              "      display: none;\n",
              "      fill: #1967D2;\n",
              "      height: 32px;\n",
              "      padding: 0 0 0 0;\n",
              "      width: 32px;\n",
              "    }\n",
              "\n",
              "    .colab-df-convert:hover {\n",
              "      background-color: #E2EBFA;\n",
              "      box-shadow: 0px 1px 2px rgba(60, 64, 67, 0.3), 0px 1px 3px 1px rgba(60, 64, 67, 0.15);\n",
              "      fill: #174EA6;\n",
              "    }\n",
              "\n",
              "    [theme=dark] .colab-df-convert {\n",
              "      background-color: #3B4455;\n",
              "      fill: #D2E3FC;\n",
              "    }\n",
              "\n",
              "    [theme=dark] .colab-df-convert:hover {\n",
              "      background-color: #434B5C;\n",
              "      box-shadow: 0px 1px 3px 1px rgba(0, 0, 0, 0.15);\n",
              "      filter: drop-shadow(0px 1px 2px rgba(0, 0, 0, 0.3));\n",
              "      fill: #FFFFFF;\n",
              "    }\n",
              "  </style>\n",
              "\n",
              "      <script>\n",
              "        const buttonEl =\n",
              "          document.querySelector('#df-95745a88-3fd0-43bf-ba83-5eb23473906c button.colab-df-convert');\n",
              "        buttonEl.style.display =\n",
              "          google.colab.kernel.accessAllowed ? 'block' : 'none';\n",
              "\n",
              "        async function convertToInteractive(key) {\n",
              "          const element = document.querySelector('#df-95745a88-3fd0-43bf-ba83-5eb23473906c');\n",
              "          const dataTable =\n",
              "            await google.colab.kernel.invokeFunction('convertToInteractive',\n",
              "                                                     [key], {});\n",
              "          if (!dataTable) return;\n",
              "\n",
              "          const docLinkHtml = 'Like what you see? Visit the ' +\n",
              "            '<a target=\"_blank\" href=https://colab.research.google.com/notebooks/data_table.ipynb>data table notebook</a>'\n",
              "            + ' to learn more about interactive tables.';\n",
              "          element.innerHTML = '';\n",
              "          dataTable['output_type'] = 'display_data';\n",
              "          await google.colab.output.renderOutput(dataTable, element);\n",
              "          const docLink = document.createElement('div');\n",
              "          docLink.innerHTML = docLinkHtml;\n",
              "          element.appendChild(docLink);\n",
              "        }\n",
              "      </script>\n",
              "    </div>\n",
              "  </div>\n",
              "  "
            ]
          },
          "metadata": {},
          "execution_count": 15
        }
      ],
      "source": [
        "pd.set_option('display.max_columns',None)\n",
        "df.groupby(['Class']).median()"
      ]
    },
    {
      "cell_type": "code",
      "execution_count": 16,
      "metadata": {
        "colab": {
          "base_uri": "https://localhost:8080/",
          "height": 295
        },
        "id": "w9QTzy5ZG8t8",
        "outputId": "543e73f7-ff11-4515-d480-bbc42a7ad4bd"
      },
      "outputs": [
        {
          "output_type": "display_data",
          "data": {
            "text/plain": [
              "<Figure size 1440x288 with 4 Axes>"
            ],
            "image/png": "[encoded data removed]"
          },
          "metadata": {
            "needs_background": "light"
          }
        }
      ],
      "source": [
        "f, axes = plt.subplots(ncols=4, figsize=(20,4))\n",
        "colors=['blue','orange']\n",
        "sns.boxplot(x=\"Class\", y=\"V17\", data=df, palette=colors, ax=axes[0])\n",
        "axes[0].set_title('Class Vs V17')\n",
        "\n",
        "sns.boxplot(x=\"Class\", y=\"V14\", data=df, palette=colors, ax=axes[1])\n",
        "axes[1].set_title('Class Vs V14')\n",
        "\n",
        "\n",
        "sns.boxplot(x=\"Class\", y=\"V12\", data=df, palette=colors, ax=axes[2])\n",
        "axes[2].set_title('Class Vs V12')\n",
        "\n",
        "\n",
        "sns.boxplot(x=\"Class\", y=\"V10\", data=df, palette=colors, ax=axes[3])\n",
        "axes[3].set_title('Class Vs V10')\n",
        "\n",
        "plt.show()"
      ]
    },
    {
      "cell_type": "markdown",
      "metadata": {
        "id": "07lTmKMdNJjD"
      },
      "source": [
        "Based on the box plots there are some extreme values. Here we use a\n",
        "technique called clipping for handling such values. For variables v12,\n",
        "v14, v17 and v10, identify the extreme values in class==1, and then we\n",
        "clip any value which is IQR less than q1 or IQR greater than q3 to q1-\n",
        "IQR or q3+IQR respectively"
      ]
    },
    {
      "cell_type": "code",
      "execution_count": 17,
      "metadata": {
        "id": "ulQNRWqgG8t8"
      },
      "outputs": [],
      "source": [
        "df1=df\n",
        "fraud_out= df1['V12'].loc[df1['Class']==1].values\n",
        "q75, q25 = np.percentile(fraud_out,q=75), np.percentile(fraud_out,q=25)\n",
        "iqr=q75-q25\n",
        "lower, upper=q25- iqr, q75 + iqr\n",
        "df1['V12']=df1['V12'].clip(lower=lower)\n",
        "\n",
        "fraud_out= df1['V14'].loc[df1['Class']==1].values\n",
        "q75, q25 = np.percentile(fraud_out,q=75), np.percentile(fraud_out,q=25)\n",
        "iqr=q75-q25\n",
        "lower, upper=q25- iqr, q75 + iqr\n",
        "df1['V14']=df1['V14'].clip(lower=lower)\n",
        "\n",
        "fraud_out= df1['V17'].loc[df1['Class']==1].values\n",
        "q75, q25 = np.percentile(fraud_out,q=75), np.percentile(fraud_out,q=25)\n",
        "iqr=q75-q25\n",
        "lower, upper=q25- iqr, q75 + iqr\n",
        "df1['V17']=df1['V17'].clip(lower=lower)\n",
        "\n",
        "fraud_out= df1['V10'].loc[df1['Class']==1].values\n",
        "q75, q25 = np.percentile(fraud_out,q=75), np.percentile(fraud_out,q=25)\n",
        "iqr=q75-q25\n",
        "lower, upper=q25- iqr, q75 + iqr\n",
        "df1['V10']=df1['V10'].clip(lower=lower)\n",
        "\n",
        "         "
      ]
    },
    {
      "cell_type": "code",
      "execution_count": 18,
      "metadata": {
        "colab": {
          "base_uri": "https://localhost:8080/",
          "height": 295
        },
        "id": "rKUMrR7NMq91",
        "outputId": "f523ac67-34a4-4937-d7fc-7d656ce91992"
      },
      "outputs": [
        {
          "output_type": "display_data",
          "data": {
            "text/plain": [
              "<Figure size 1440x288 with 4 Axes>"
            ],
            "image/png": "[encoded data removed]"
          },
          "metadata": {
            "needs_background": "light"
          }
        }
      ],
      "source": [
        "f, axes = plt.subplots(ncols=4, figsize=(20,4))\n",
        "colors=['blue','orange']\n",
        "sns.boxplot(x=\"Class\", y=\"V17\", data=df, palette=colors, ax=axes[0])\n",
        "axes[0].set_title('Class Vs V17')\n",
        "\n",
        "sns.boxplot(x=\"Class\", y=\"V14\", data=df, palette=colors, ax=axes[1])\n",
        "axes[1].set_title('Class Vs V14')\n",
        "\n",
        "\n",
        "sns.boxplot(x=\"Class\", y=\"V12\", data=df, palette=colors, ax=axes[2])\n",
        "axes[2].set_title('Class Vs V12')\n",
        "\n",
        "\n",
        "sns.boxplot(x=\"Class\", y=\"V10\", data=df, palette=colors, ax=axes[3])\n",
        "axes[3].set_title('Class Vs V10')\n",
        "\n",
        "plt.show()"
      ]
    },
    {
      "cell_type": "markdown",
      "metadata": {
        "id": "gZBojWZvNhyy"
      },
      "source": [
        "Using this clipped data, splitting to train and test models"
      ]
    },
    {
      "cell_type": "code",
      "execution_count": 19,
      "metadata": {
        "id": "MZicYD8XG8t9"
      },
      "outputs": [],
      "source": [
        "X = df1.drop('Class', axis=1)\n",
        "y = df1['Class']\n",
        "\n",
        "\n",
        "# This is explicitly used for undersampling.\n",
        "X_train, X_test, y_train, y_test = train_test_split(X, y, test_size=0.3, random_state=123)"
      ]
    },
    {
      "cell_type": "code",
      "execution_count": 19,
      "metadata": {
        "id": "sGRcO8jUN42R"
      },
      "outputs": [],
      "source": []
    },
    {
      "cell_type": "code",
      "execution_count": 20,
      "metadata": {
        "colab": {
          "base_uri": "https://localhost:8080/",
          "height": 175
        },
        "id": "5gniYze0G8t9",
        "outputId": "6627c359-f0ce-47a0-8e76-c1ccf806d64f"
      },
      "outputs": [
        {
          "output_type": "execute_result",
          "data": {
            "text/plain": [
              "                        Model  Train_F1_Score  Test_F1_Score\n",
              "0      DecisionTreeClassifier        1.000000       0.999004\n",
              "1        KNeighborsClassifier        0.999215       0.999027\n",
              "2      RandomForestClassifier        1.000000       0.999596\n",
              "3  GradientBoostingClassifier        1.000000       0.999099"
            ],
            "text/html": [
              "\n",
              "  <div id=\"df-937d23a4-830d-4059-99ce-b93552fc70d5\">\n",
              "    <div class=\"colab-df-container\">\n",
              "      <div>\n",
              "<style scoped>\n",
              "    .dataframe tbody tr th:only-of-type {\n",
              "        vertical-align: middle;\n",
              "    }\n",
              "\n",
              "    .dataframe tbody tr th {\n",
              "        vertical-align: top;\n",
              "    }\n",
              "\n",
              "    .dataframe thead th {\n",
              "        text-align: right;\n",
              "    }\n",
              "</style>\n",
              "<table border=\"1\" class=\"dataframe\">\n",
              "  <thead>\n",
              "    <tr style=\"text-align: right;\">\n",
              "      <th></th>\n",
              "      <th>Model</th>\n",
              "      <th>Train_F1_Score</th>\n",
              "      <th>Test_F1_Score</th>\n",
              "    </tr>\n",
              "  </thead>\n",
              "  <tbody>\n",
              "    <tr>\n",
              "      <th>0</th>\n",
              "      <td>DecisionTreeClassifier</td>\n",
              "      <td>1.000000</td>\n",
              "      <td>0.999004</td>\n",
              "    </tr>\n",
              "    <tr>\n",
              "      <th>1</th>\n",
              "      <td>KNeighborsClassifier</td>\n",
              "      <td>0.999215</td>\n",
              "      <td>0.999027</td>\n",
              "    </tr>\n",
              "    <tr>\n",
              "      <th>2</th>\n",
              "      <td>RandomForestClassifier</td>\n",
              "      <td>1.000000</td>\n",
              "      <td>0.999596</td>\n",
              "    </tr>\n",
              "    <tr>\n",
              "      <th>3</th>\n",
              "      <td>GradientBoostingClassifier</td>\n",
              "      <td>1.000000</td>\n",
              "      <td>0.999099</td>\n",
              "    </tr>\n",
              "  </tbody>\n",
              "</table>\n",
              "</div>\n",
              "      <button class=\"colab-df-convert\" onclick=\"convertToInteractive('df-937d23a4-830d-4059-99ce-b93552fc70d5')\"\n",
              "              title=\"Convert this dataframe to an interactive table.\"\n",
              "              style=\"display:none;\">\n",
              "        \n",
              "  <svg xmlns=\"http://www.w3.org/2000/svg\" height=\"24px\"viewBox=\"0 0 24 24\"\n",
              "       width=\"24px\">\n",
              "    <path d=\"M0 0h24v24H0V0z\" fill=\"none\"/>\n",
              "    <path d=\"M18.56 5.44l.94 2.06.94-2.06 2.06-.94-2.06-.94-.94-2.06-.94 2.06-2.06.94zm-11 1L8.5 8.5l.94-2.06 2.06-.94-2.06-.94L8.5 2.5l-.94 2.06-2.06.94zm10 10l.94 2.06.94-2.06 2.06-.94-2.06-.94-.94-2.06-.94 2.06-2.06.94z\"/><path d=\"M17.41 7.96l-1.37-1.37c-.4-.4-.92-.59-1.43-.59-.52 0-1.04.2-1.43.59L10.3 9.45l-7.72 7.72c-.78.78-.78 2.05 0 2.83L4 21.41c.39.39.9.59 1.41.59.51 0 1.02-.2 1.41-.59l7.78-7.78 2.81-2.81c.8-.78.8-2.07 0-2.86zM5.41 20L4 18.59l7.72-7.72 1.47 1.35L5.41 20z\"/>\n",
              "  </svg>\n",
              "      </button>\n",
              "      \n",
              "  <style>\n",
              "    .colab-df-container {\n",
              "      display:flex;\n",
              "      flex-wrap:wrap;\n",
              "      gap: 12px;\n",
              "    }\n",
              "\n",
              "    .colab-df-convert {\n",
              "      background-color: #E8F0FE;\n",
              "      border: none;\n",
              "      border-radius: 50%;\n",
              "      cursor: pointer;\n",
              "      display: none;\n",
              "      fill: #1967D2;\n",
              "      height: 32px;\n",
              "      padding: 0 0 0 0;\n",
              "      width: 32px;\n",
              "    }\n",
              "\n",
              "    .colab-df-convert:hover {\n",
              "      background-color: #E2EBFA;\n",
              "      box-shadow: 0px 1px 2px rgba(60, 64, 67, 0.3), 0px 1px 3px 1px rgba(60, 64, 67, 0.15);\n",
              "      fill: #174EA6;\n",
              "    }\n",
              "\n",
              "    [theme=dark] .colab-df-convert {\n",
              "      background-color: #3B4455;\n",
              "      fill: #D2E3FC;\n",
              "    }\n",
              "\n",
              "    [theme=dark] .colab-df-convert:hover {\n",
              "      background-color: #434B5C;\n",
              "      box-shadow: 0px 1px 3px 1px rgba(0, 0, 0, 0.15);\n",
              "      filter: drop-shadow(0px 1px 2px rgba(0, 0, 0, 0.3));\n",
              "      fill: #FFFFFF;\n",
              "    }\n",
              "  </style>\n",
              "\n",
              "      <script>\n",
              "        const buttonEl =\n",
              "          document.querySelector('#df-937d23a4-830d-4059-99ce-b93552fc70d5 button.colab-df-convert');\n",
              "        buttonEl.style.display =\n",
              "          google.colab.kernel.accessAllowed ? 'block' : 'none';\n",
              "\n",
              "        async function convertToInteractive(key) {\n",
              "          const element = document.querySelector('#df-937d23a4-830d-4059-99ce-b93552fc70d5');\n",
              "          const dataTable =\n",
              "            await google.colab.kernel.invokeFunction('convertToInteractive',\n",
              "                                                     [key], {});\n",
              "          if (!dataTable) return;\n",
              "\n",
              "          const docLinkHtml = 'Like what you see? Visit the ' +\n",
              "            '<a target=\"_blank\" href=https://colab.research.google.com/notebooks/data_table.ipynb>data table notebook</a>'\n",
              "            + ' to learn more about interactive tables.';\n",
              "          element.innerHTML = '';\n",
              "          dataTable['output_type'] = 'display_data';\n",
              "          await google.colab.output.renderOutput(dataTable, element);\n",
              "          const docLink = document.createElement('div');\n",
              "          docLink.innerHTML = docLinkHtml;\n",
              "          element.appendChild(docLink);\n",
              "        }\n",
              "      </script>\n",
              "    </div>\n",
              "  </div>\n",
              "  "
            ]
          },
          "metadata": {},
          "execution_count": 20
        }
      ],
      "source": [
        "scores"
      ]
    },
    {
      "cell_type": "code",
      "execution_count": 20,
      "metadata": {
        "id": "YQ8pdDkCOKnT"
      },
      "outputs": [],
      "source": []
    },
    {
      "cell_type": "markdown",
      "metadata": {
        "id": "JE7mvRveOK7Z"
      },
      "source": [
        "As there is a heavy class imbal\u0002ance in the data. To work with imbalance data, we can undersample the majority\n",
        "class to reduce the imbalance. In doing so, we may be training models\n",
        "with fewer records so we need to check how the model performs on en\u0002tire data"
      ]
    },
    {
      "cell_type": "code",
      "execution_count": 21,
      "metadata": {
        "colab": {
          "base_uri": "https://localhost:8080/",
          "height": 270
        },
        "id": "DvX9VTy7G8t9",
        "outputId": "b707453c-3cc1-47c4-ee66-ff434588f45d"
      },
      "outputs": [
        {
          "output_type": "execute_result",
          "data": {
            "text/plain": [
              "             V1        V2        V3        V4        V5        V6        V7  \\\n",
              "77081 -0.802798  0.681598  1.660549  0.436262  0.826050  0.004548  0.247156   \n",
              "99566 -1.360293 -0.458069 -0.700404  2.737229 -1.005106  2.891399  5.802537   \n",
              "42687 -0.773912  1.475797  0.337472  1.030453  0.643364  0.714093  0.528513   \n",
              "99757 -2.783865  1.596824 -2.084844  2.512986 -1.446749 -0.828496 -0.732262   \n",
              "99685  0.951025  3.252926 -5.039105  4.632411  3.014501 -1.349570  0.980940   \n",
              "\n",
              "             V8        V9       V10       V11       V12       V13       V14  \\\n",
              "77081  0.206164 -1.118345 -0.434499  1.596486  0.785453  0.698135 -0.199801   \n",
              "99566 -1.933197 -1.017717  1.987862  0.504116 -0.863431 -0.184450 -1.016916   \n",
              "42687 -0.173457  0.448327  1.611376 -1.391142 -0.948328 -0.281275 -0.134247   \n",
              "99757 -0.203329 -0.347046 -2.162061  1.966123 -3.127456  0.506574 -5.926131   \n",
              "99685 -1.819539 -2.099049 -1.347557  2.680578 -1.462945 -0.705397 -7.445296   \n",
              "\n",
              "            V15       V16       V17       V18       V19       V20       V21  \\\n",
              "77081  1.033542 -0.052998  0.299812  0.101426  1.049735  0.278386 -0.129360   \n",
              "99566 -1.559410  1.154313 -2.043858 -0.151699 -0.943514 -1.493401 -0.936990   \n",
              "42687  2.118792 -0.588884 -0.237467  0.275459  1.331360  0.450062  0.017563   \n",
              "99757  0.931091 -2.499307 -3.712752 -1.142133  0.626241 -0.515001  0.203563   \n",
              "99685 -0.561332  3.139656  5.665429  3.790316 -1.909799 -0.381444  1.404524   \n",
              "\n",
              "            V22       V23       V24       V25       V26       V27       V28  \\\n",
              "77081 -0.490497 -0.104207 -0.325355 -0.023987  0.305610  0.045089  0.080805   \n",
              "99566 -0.053812  0.580106  0.216927  0.151643 -0.332115 -0.469800 -1.495006   \n",
              "42687  0.426284 -0.211251 -1.329818 -0.165445 -0.071527 -0.100023  0.065115   \n",
              "99757  0.293268  0.199568  0.146868  0.163602 -0.624085 -1.333100  0.428634   \n",
              "99685 -0.760549  0.358292 -1.185942 -1.286177  0.000365  0.169662  0.108276   \n",
              "\n",
              "       Class  scaled_amount  scaled_time  \n",
              "77081      0      -0.273966     0.565593  \n",
              "99566      1       9.857616     1.954334  \n",
              "42687      0      -0.187922    -0.136751  \n",
              "99757      1       1.591874     5.195507  \n",
              "99685      1      -0.313490     4.301900  "
            ],
            "text/html": [
              "\n",
              "  <div id=\"df-5b0c153a-16f8-4188-9045-a29fcb35a697\">\n",
              "    <div class=\"colab-df-container\">\n",
              "      <div>\n",
              "<style scoped>\n",
              "    .dataframe tbody tr th:only-of-type {\n",
              "        vertical-align: middle;\n",
              "    }\n",
              "\n",
              "    .dataframe tbody tr th {\n",
              "        vertical-align: top;\n",
              "    }\n",
              "\n",
              "    .dataframe thead th {\n",
              "        text-align: right;\n",
              "    }\n",
              "</style>\n",
              "<table border=\"1\" class=\"dataframe\">\n",
              "  <thead>\n",
              "    <tr style=\"text-align: right;\">\n",
              "      <th></th>\n",
              "      <th>V1</th>\n",
              "      <th>V2</th>\n",
              "      <th>V3</th>\n",
              "      <th>V4</th>\n",
              "      <th>V5</th>\n",
              "      <th>V6</th>\n",
              "      <th>V7</th>\n",
              "      <th>V8</th>\n",
              "      <th>V9</th>\n",
              "      <th>V10</th>\n",
              "      <th>V11</th>\n",
              "      <th>V12</th>\n",
              "      <th>V13</th>\n",
              "      <th>V14</th>\n",
              "      <th>V15</th>\n",
              "      <th>V16</th>\n",
              "      <th>V17</th>\n",
              "      <th>V18</th>\n",
              "      <th>V19</th>\n",
              "      <th>V20</th>\n",
              "      <th>V21</th>\n",
              "      <th>V22</th>\n",
              "      <th>V23</th>\n",
              "      <th>V24</th>\n",
              "      <th>V25</th>\n",
              "      <th>V26</th>\n",
              "      <th>V27</th>\n",
              "      <th>V28</th>\n",
              "      <th>Class</th>\n",
              "      <th>scaled_amount</th>\n",
              "      <th>scaled_time</th>\n",
              "    </tr>\n",
              "  </thead>\n",
              "  <tbody>\n",
              "    <tr>\n",
              "      <th>77081</th>\n",
              "      <td>-0.802798</td>\n",
              "      <td>0.681598</td>\n",
              "      <td>1.660549</td>\n",
              "      <td>0.436262</td>\n",
              "      <td>0.826050</td>\n",
              "      <td>0.004548</td>\n",
              "      <td>0.247156</td>\n",
              "      <td>0.206164</td>\n",
              "      <td>-1.118345</td>\n",
              "      <td>-0.434499</td>\n",
              "      <td>1.596486</td>\n",
              "      <td>0.785453</td>\n",
              "      <td>0.698135</td>\n",
              "      <td>-0.199801</td>\n",
              "      <td>1.033542</td>\n",
              "      <td>-0.052998</td>\n",
              "      <td>0.299812</td>\n",
              "      <td>0.101426</td>\n",
              "      <td>1.049735</td>\n",
              "      <td>0.278386</td>\n",
              "      <td>-0.129360</td>\n",
              "      <td>-0.490497</td>\n",
              "      <td>-0.104207</td>\n",
              "      <td>-0.325355</td>\n",
              "      <td>-0.023987</td>\n",
              "      <td>0.305610</td>\n",
              "      <td>0.045089</td>\n",
              "      <td>0.080805</td>\n",
              "      <td>0</td>\n",
              "      <td>-0.273966</td>\n",
              "      <td>0.565593</td>\n",
              "    </tr>\n",
              "    <tr>\n",
              "      <th>99566</th>\n",
              "      <td>-1.360293</td>\n",
              "      <td>-0.458069</td>\n",
              "      <td>-0.700404</td>\n",
              "      <td>2.737229</td>\n",
              "      <td>-1.005106</td>\n",
              "      <td>2.891399</td>\n",
              "      <td>5.802537</td>\n",
              "      <td>-1.933197</td>\n",
              "      <td>-1.017717</td>\n",
              "      <td>1.987862</td>\n",
              "      <td>0.504116</td>\n",
              "      <td>-0.863431</td>\n",
              "      <td>-0.184450</td>\n",
              "      <td>-1.016916</td>\n",
              "      <td>-1.559410</td>\n",
              "      <td>1.154313</td>\n",
              "      <td>-2.043858</td>\n",
              "      <td>-0.151699</td>\n",
              "      <td>-0.943514</td>\n",
              "      <td>-1.493401</td>\n",
              "      <td>-0.936990</td>\n",
              "      <td>-0.053812</td>\n",
              "      <td>0.580106</td>\n",
              "      <td>0.216927</td>\n",
              "      <td>0.151643</td>\n",
              "      <td>-0.332115</td>\n",
              "      <td>-0.469800</td>\n",
              "      <td>-1.495006</td>\n",
              "      <td>1</td>\n",
              "      <td>9.857616</td>\n",
              "      <td>1.954334</td>\n",
              "    </tr>\n",
              "    <tr>\n",
              "      <th>42687</th>\n",
              "      <td>-0.773912</td>\n",
              "      <td>1.475797</td>\n",
              "      <td>0.337472</td>\n",
              "      <td>1.030453</td>\n",
              "      <td>0.643364</td>\n",
              "      <td>0.714093</td>\n",
              "      <td>0.528513</td>\n",
              "      <td>-0.173457</td>\n",
              "      <td>0.448327</td>\n",
              "      <td>1.611376</td>\n",
              "      <td>-1.391142</td>\n",
              "      <td>-0.948328</td>\n",
              "      <td>-0.281275</td>\n",
              "      <td>-0.134247</td>\n",
              "      <td>2.118792</td>\n",
              "      <td>-0.588884</td>\n",
              "      <td>-0.237467</td>\n",
              "      <td>0.275459</td>\n",
              "      <td>1.331360</td>\n",
              "      <td>0.450062</td>\n",
              "      <td>0.017563</td>\n",
              "      <td>0.426284</td>\n",
              "      <td>-0.211251</td>\n",
              "      <td>-1.329818</td>\n",
              "      <td>-0.165445</td>\n",
              "      <td>-0.071527</td>\n",
              "      <td>-0.100023</td>\n",
              "      <td>0.065115</td>\n",
              "      <td>0</td>\n",
              "      <td>-0.187922</td>\n",
              "      <td>-0.136751</td>\n",
              "    </tr>\n",
              "    <tr>\n",
              "      <th>99757</th>\n",
              "      <td>-2.783865</td>\n",
              "      <td>1.596824</td>\n",
              "      <td>-2.084844</td>\n",
              "      <td>2.512986</td>\n",
              "      <td>-1.446749</td>\n",
              "      <td>-0.828496</td>\n",
              "      <td>-0.732262</td>\n",
              "      <td>-0.203329</td>\n",
              "      <td>-0.347046</td>\n",
              "      <td>-2.162061</td>\n",
              "      <td>1.966123</td>\n",
              "      <td>-3.127456</td>\n",
              "      <td>0.506574</td>\n",
              "      <td>-5.926131</td>\n",
              "      <td>0.931091</td>\n",
              "      <td>-2.499307</td>\n",
              "      <td>-3.712752</td>\n",
              "      <td>-1.142133</td>\n",
              "      <td>0.626241</td>\n",
              "      <td>-0.515001</td>\n",
              "      <td>0.203563</td>\n",
              "      <td>0.293268</td>\n",
              "      <td>0.199568</td>\n",
              "      <td>0.146868</td>\n",
              "      <td>0.163602</td>\n",
              "      <td>-0.624085</td>\n",
              "      <td>-1.333100</td>\n",
              "      <td>0.428634</td>\n",
              "      <td>1</td>\n",
              "      <td>1.591874</td>\n",
              "      <td>5.195507</td>\n",
              "    </tr>\n",
              "    <tr>\n",
              "      <th>99685</th>\n",
              "      <td>0.951025</td>\n",
              "      <td>3.252926</td>\n",
              "      <td>-5.039105</td>\n",
              "      <td>4.632411</td>\n",
              "      <td>3.014501</td>\n",
              "      <td>-1.349570</td>\n",
              "      <td>0.980940</td>\n",
              "      <td>-1.819539</td>\n",
              "      <td>-2.099049</td>\n",
              "      <td>-1.347557</td>\n",
              "      <td>2.680578</td>\n",
              "      <td>-1.462945</td>\n",
              "      <td>-0.705397</td>\n",
              "      <td>-7.445296</td>\n",
              "      <td>-0.561332</td>\n",
              "      <td>3.139656</td>\n",
              "      <td>5.665429</td>\n",
              "      <td>3.790316</td>\n",
              "      <td>-1.909799</td>\n",
              "      <td>-0.381444</td>\n",
              "      <td>1.404524</td>\n",
              "      <td>-0.760549</td>\n",
              "      <td>0.358292</td>\n",
              "      <td>-1.185942</td>\n",
              "      <td>-1.286177</td>\n",
              "      <td>0.000365</td>\n",
              "      <td>0.169662</td>\n",
              "      <td>0.108276</td>\n",
              "      <td>1</td>\n",
              "      <td>-0.313490</td>\n",
              "      <td>4.301900</td>\n",
              "    </tr>\n",
              "  </tbody>\n",
              "</table>\n",
              "</div>\n",
              "      <button class=\"colab-df-convert\" onclick=\"convertToInteractive('df-5b0c153a-16f8-4188-9045-a29fcb35a697')\"\n",
              "              title=\"Convert this dataframe to an interactive table.\"\n",
              "              style=\"display:none;\">\n",
              "        \n",
              "  <svg xmlns=\"http://www.w3.org/2000/svg\" height=\"24px\"viewBox=\"0 0 24 24\"\n",
              "       width=\"24px\">\n",
              "    <path d=\"M0 0h24v24H0V0z\" fill=\"none\"/>\n",
              "    <path d=\"M18.56 5.44l.94 2.06.94-2.06 2.06-.94-2.06-.94-.94-2.06-.94 2.06-2.06.94zm-11 1L8.5 8.5l.94-2.06 2.06-.94-2.06-.94L8.5 2.5l-.94 2.06-2.06.94zm10 10l.94 2.06.94-2.06 2.06-.94-2.06-.94-.94-2.06-.94 2.06-2.06.94z\"/><path d=\"M17.41 7.96l-1.37-1.37c-.4-.4-.92-.59-1.43-.59-.52 0-1.04.2-1.43.59L10.3 9.45l-7.72 7.72c-.78.78-.78 2.05 0 2.83L4 21.41c.39.39.9.59 1.41.59.51 0 1.02-.2 1.41-.59l7.78-7.78 2.81-2.81c.8-.78.8-2.07 0-2.86zM5.41 20L4 18.59l7.72-7.72 1.47 1.35L5.41 20z\"/>\n",
              "  </svg>\n",
              "      </button>\n",
              "      \n",
              "  <style>\n",
              "    .colab-df-container {\n",
              "      display:flex;\n",
              "      flex-wrap:wrap;\n",
              "      gap: 12px;\n",
              "    }\n",
              "\n",
              "    .colab-df-convert {\n",
              "      background-color: #E8F0FE;\n",
              "      border: none;\n",
              "      border-radius: 50%;\n",
              "      cursor: pointer;\n",
              "      display: none;\n",
              "      fill: #1967D2;\n",
              "      height: 32px;\n",
              "      padding: 0 0 0 0;\n",
              "      width: 32px;\n",
              "    }\n",
              "\n",
              "    .colab-df-convert:hover {\n",
              "      background-color: #E2EBFA;\n",
              "      box-shadow: 0px 1px 2px rgba(60, 64, 67, 0.3), 0px 1px 3px 1px rgba(60, 64, 67, 0.15);\n",
              "      fill: #174EA6;\n",
              "    }\n",
              "\n",
              "    [theme=dark] .colab-df-convert {\n",
              "      background-color: #3B4455;\n",
              "      fill: #D2E3FC;\n",
              "    }\n",
              "\n",
              "    [theme=dark] .colab-df-convert:hover {\n",
              "      background-color: #434B5C;\n",
              "      box-shadow: 0px 1px 3px 1px rgba(0, 0, 0, 0.15);\n",
              "      filter: drop-shadow(0px 1px 2px rgba(0, 0, 0, 0.3));\n",
              "      fill: #FFFFFF;\n",
              "    }\n",
              "  </style>\n",
              "\n",
              "      <script>\n",
              "        const buttonEl =\n",
              "          document.querySelector('#df-5b0c153a-16f8-4188-9045-a29fcb35a697 button.colab-df-convert');\n",
              "        buttonEl.style.display =\n",
              "          google.colab.kernel.accessAllowed ? 'block' : 'none';\n",
              "\n",
              "        async function convertToInteractive(key) {\n",
              "          const element = document.querySelector('#df-5b0c153a-16f8-4188-9045-a29fcb35a697');\n",
              "          const dataTable =\n",
              "            await google.colab.kernel.invokeFunction('convertToInteractive',\n",
              "                                                     [key], {});\n",
              "          if (!dataTable) return;\n",
              "\n",
              "          const docLinkHtml = 'Like what you see? Visit the ' +\n",
              "            '<a target=\"_blank\" href=https://colab.research.google.com/notebooks/data_table.ipynb>data table notebook</a>'\n",
              "            + ' to learn more about interactive tables.';\n",
              "          element.innerHTML = '';\n",
              "          dataTable['output_type'] = 'display_data';\n",
              "          await google.colab.output.renderOutput(dataTable, element);\n",
              "          const docLink = document.createElement('div');\n",
              "          docLink.innerHTML = docLinkHtml;\n",
              "          element.appendChild(docLink);\n",
              "        }\n",
              "      </script>\n",
              "    </div>\n",
              "  </div>\n",
              "  "
            ]
          },
          "metadata": {},
          "execution_count": 21
        }
      ],
      "source": [
        "\n",
        "# Since our classes are highly skewed we should make them equivalent in order to have a normal distribution of the classes.\n",
        "\n",
        "# Lets shuffle the data before creating the subsamples\n",
        "\n",
        "df = df.sample(frac=1)\n",
        "\n",
        "# amount of fraud classes 492 rows.\n",
        "fraud_df = df.loc[df['Class'] == 1]\n",
        "non_fraud_df = df.loc[df['Class'] == 0][:fraud_df.shape[0]]\n",
        "\n",
        "df_undersample = pd.concat([fraud_df, non_fraud_df])\n",
        "\n",
        "# Shuffle dataframe rows\n",
        "new_df = df_undersample.sample(frac=1, random_state=42)\n",
        "\n",
        "new_df.head()"
      ]
    },
    {
      "cell_type": "code",
      "execution_count": 22,
      "metadata": {
        "colab": {
          "base_uri": "https://localhost:8080/"
        },
        "id": "PKXw_mZ5Okah",
        "outputId": "79a9a5d0-b10e-4d53-fb58-53d88f0c890e"
      },
      "outputs": [
        {
          "output_type": "execute_result",
          "data": {
            "text/plain": [
              "(984, 31)"
            ]
          },
          "metadata": {},
          "execution_count": 22
        }
      ],
      "source": [
        "new_df.shape"
      ]
    },
    {
      "cell_type": "code",
      "execution_count": 23,
      "metadata": {
        "colab": {
          "base_uri": "https://localhost:8080/",
          "height": 368
        },
        "id": "sJJm2TByG8t-",
        "outputId": "4da95908-5866-4578-e7c0-a9d7289604ef"
      },
      "outputs": [
        {
          "output_type": "stream",
          "name": "stdout",
          "text": [
            "Distribution of the Classes in the subsample dataset\n",
            "0    0.5\n",
            "1    0.5\n",
            "Name: Class, dtype: float64\n"
          ]
        },
        {
          "output_type": "display_data",
          "data": {
            "text/plain": [
              "<Figure size 432x288 with 1 Axes>"
            ],
            "image/png": "[encoded data removed]"
          },
          "metadata": {
            "needs_background": "light"
          }
        }
      ],
      "source": [
        "print('Distribution of the Classes in the subsample dataset')\n",
        "print(new_df['Class'].value_counts(normalize=True))\n",
        "\n",
        "\n",
        "\n",
        "sns.countplot('Class', data=new_df, palette=['blue','green'])\n",
        "plt.title('Equally Distributed Classes', fontsize=14)\n",
        "plt.show()"
      ]
    },
    {
      "cell_type": "code",
      "execution_count": 24,
      "metadata": {
        "colab": {
          "base_uri": "https://localhost:8080/",
          "height": 295
        },
        "id": "mtovUEisG8t-",
        "outputId": "b404b2c9-74ac-4a81-c9bd-3d9294e9e390"
      },
      "outputs": [
        {
          "output_type": "display_data",
          "data": {
            "text/plain": [
              "<Figure size 1440x288 with 4 Axes>"
            ],
            "image/png": "[encoded data removed]"
          },
          "metadata": {
            "needs_background": "light"
          }
        }
      ],
      "source": [
        "f, axes = plt.subplots(ncols=4, figsize=(20,4))\n",
        "colors=['blue','orange']\n",
        "sns.boxplot(x=\"Class\", y=\"V17\", data=new_df, palette=colors, ax=axes[0])\n",
        "axes[0].set_title('Class Vs V17')\n",
        "\n",
        "sns.boxplot(x=\"Class\", y=\"V14\", data=new_df, palette=colors, ax=axes[1])\n",
        "axes[1].set_title('Class Vs V14')\n",
        "\n",
        "\n",
        "sns.boxplot(x=\"Class\", y=\"V12\", data=new_df, palette=colors, ax=axes[2])\n",
        "axes[2].set_title('Class Vs V12')\n",
        "\n",
        "\n",
        "sns.boxplot(x=\"Class\", y=\"V10\", data=new_df, palette=colors, ax=axes[3])\n",
        "axes[3].set_title('Class Vs V10')\n",
        "\n",
        "plt.show()"
      ]
    },
    {
      "cell_type": "raw",
      "metadata": {
        "id": "X4Z5dx18G8t-"
      },
      "source": [
        "## Just to ensure if the distribution is similar with the entire data\n",
        "f, axes = plt.subplots(ncols=4, figsize=(20,4))\n",
        "colors=['blue','orange']\n",
        "sns.boxplot(x=\"Class\", y=\"V17\", data=df, palette=colors, ax=axes[0])\n",
        "axes[0].set_title('Class Vs V17')\n",
        "\n",
        "sns.boxplot(x=\"Class\", y=\"V14\", data=df, palette=colors, ax=axes[1])\n",
        "axes[1].set_title('Class Vs V14')\n",
        "\n",
        "\n",
        "sns.boxplot(x=\"Class\", y=\"V12\", data=df, palette=colors, ax=axes[2])\n",
        "axes[2].set_title('Class Vs V12')\n",
        "\n",
        "\n",
        "sns.boxplot(x=\"Class\", y=\"V10\", data=df, palette=colors, ax=axes[3])\n",
        "axes[3].set_title('Class Vs V10')\n",
        "\n",
        "plt.show()"
      ]
    },
    {
      "cell_type": "code",
      "execution_count": 25,
      "metadata": {
        "id": "rzjeoVf5G8t-"
      },
      "outputs": [],
      "source": [
        "## There are some extreme values in the records, we can go with quantile clipping\n",
        "\n",
        "fraud_out= new_df['V12'].loc[new_df['Class']==1].values\n",
        "q75, q25 = np.percentile(fraud_out,q=75), np.percentile(fraud_out,q=25)\n",
        "iqr=q75-q25\n",
        "lower, upper=q25- iqr, q75 + iqr\n",
        "new_df['V12']=new_df['V12'].clip(lower=lower)\n",
        "\n",
        "fraud_out= new_df['V14'].loc[new_df['Class']==1].values\n",
        "q75, q25 = np.percentile(fraud_out,q=75), np.percentile(fraud_out,q=25)\n",
        "iqr=q75-q25\n",
        "lower, upper=q25- iqr, q75 + iqr\n",
        "new_df['V14']=new_df['V14'].clip(lower=lower)\n",
        "\n",
        "fraud_out= new_df['V17'].loc[new_df['Class']==1].values\n",
        "q75, q25 = np.percentile(fraud_out,q=75), np.percentile(fraud_out,q=25)\n",
        "iqr=q75-q25\n",
        "lower, upper=q25- iqr, q75 + iqr\n",
        "new_df['V17']=new_df['V17'].clip(lower=lower)\n",
        "\n",
        "fraud_out= new_df['V10'].loc[new_df['Class']==1].values\n",
        "q75, q25 = np.percentile(fraud_out,q=75), np.percentile(fraud_out,q=25)\n",
        "iqr=q75-q25\n",
        "lower, upper=q25- iqr, q75 + iqr\n",
        "new_df['V10']=new_df['V10'].clip(lower=lower)\n",
        "         "
      ]
    },
    {
      "cell_type": "code",
      "execution_count": 26,
      "metadata": {
        "colab": {
          "base_uri": "https://localhost:8080/",
          "height": 295
        },
        "id": "M0Q98UvtG8t-",
        "outputId": "8aa12a04-82f4-4375-9c72-9d44c0a528ef"
      },
      "outputs": [
        {
          "output_type": "display_data",
          "data": {
            "text/plain": [
              "<Figure size 1440x288 with 4 Axes>"
            ],
            "image/png": "[encoded data removed]"
          },
          "metadata": {
            "needs_background": "light"
          }
        }
      ],
      "source": [
        "f, axes = plt.subplots(ncols=4, figsize=(20,4))\n",
        "colors=['blue','orange']\n",
        "sns.boxplot(x=\"Class\", y=\"V17\", data=new_df, palette=colors, ax=axes[0])\n",
        "axes[0].set_title('Class Vs V17')\n",
        "\n",
        "sns.boxplot(x=\"Class\", y=\"V14\", data=new_df, palette=colors, ax=axes[1])\n",
        "axes[1].set_title('Class Vs V14')\n",
        "\n",
        "\n",
        "sns.boxplot(x=\"Class\", y=\"V12\", data=new_df, palette=colors, ax=axes[2])\n",
        "axes[2].set_title('Class Vs V12')\n",
        "\n",
        "\n",
        "sns.boxplot(x=\"Class\", y=\"V10\", data=new_df, palette=colors, ax=axes[3])\n",
        "axes[3].set_title('Class Vs V10')\n",
        "\n",
        "plt.show()"
      ]
    },
    {
      "cell_type": "code",
      "execution_count": 27,
      "metadata": {
        "id": "eTGtmG0aG8t-"
      },
      "outputs": [],
      "source": [
        "## Making a single train test split and applying multiple models\n",
        "X = new_df.drop('Class', axis=1)\n",
        "y = new_df['Class']\n",
        "\n",
        "\n",
        "# This is explicitly used for undersampling.\n",
        "X_train, X_test, y_train, y_test = train_test_split(X, y, test_size=0.2, random_state=42)"
      ]
    },
    {
      "cell_type": "code",
      "execution_count": 28,
      "metadata": {
        "colab": {
          "base_uri": "https://localhost:8080/"
        },
        "id": "KM6dS-MrG8t_",
        "outputId": "abeea6ba-71bb-45d7-9c82-b60cf4f73c8b"
      },
      "outputs": [
        {
          "output_type": "stream",
          "name": "stdout",
          "text": [
            "(787, 30)\n",
            "(197, 30)\n",
            "(787,)\n",
            "(197,)\n"
          ]
        }
      ],
      "source": [
        "print(X_train.shape)\n",
        "print(X_test.shape)\n",
        "print(y_train.shape)\n",
        "print(y_test.shape)"
      ]
    },
    {
      "cell_type": "code",
      "execution_count": 29,
      "metadata": {
        "id": "evPAkWpUG8t_"
      },
      "outputs": [],
      "source": [
        "# Let's implement simple classifiers\n",
        "# Classifier Libraries\n",
        "from sklearn.svm import SVC\n",
        "\n",
        "classifiers = {\n",
        "    \"RandomForest\": RandomForestClassifier(),\n",
        "    \"KNearest\": KNeighborsClassifier(),\n",
        "    \"Support Vector Classifier\": SVC(),\n",
        "    \"DecisionTreeClassifier\": DecisionTreeClassifier(),\n",
        "    \"Adaboost\": AdaBoostClassifier(),\n",
        "    \"Gradboost\": GradientBoostingClassifier()\n",
        "}"
      ]
    },
    {
      "cell_type": "code",
      "execution_count": 30,
      "metadata": {
        "colab": {
          "base_uri": "https://localhost:8080/"
        },
        "id": "55QrtfgVG8t_",
        "outputId": "6c868b20-1208-46da-dcfe-440ec836e1fb"
      },
      "outputs": [
        {
          "output_type": "stream",
          "name": "stdout",
          "text": [
            "Classifiers:  RandomForestClassifier Has a training score of 97.0 %  F1 score\n",
            "Classifiers:  KNeighborsClassifier Has a training score of 95.0 %  F1 score\n",
            "Classifiers:  SVC Has a training score of 96.0 %  F1 score\n",
            "Classifiers:  DecisionTreeClassifier Has a training score of 94.0 %  F1 score\n",
            "Classifiers:  AdaBoostClassifier Has a training score of 96.0 %  F1 score\n",
            "Classifiers:  GradientBoostingClassifier Has a training score of 97.0 %  F1 score\n",
            "F1 Score on test data is:  {'RandomForestClassifier': 0.9671361502347418, 'KNeighborsClassifier': 0.9423076923076923, 'SVC': 0.9423076923076923, 'DecisionTreeClassifier': 0.9769585253456221, 'AdaBoostClassifier': 0.9722222222222223, 'GradientBoostingClassifier': 0.9722222222222223}\n",
            "CPU times: user 5.45 s, sys: 171 ms, total: 5.62 s\n",
            "Wall time: 5.51 s\n"
          ]
        }
      ],
      "source": [
        "%%time\n",
        "class_metric={}\n",
        "for key, classifier in classifiers.items():\n",
        "    classifier.fit(X_train, y_train) #787 records model built\n",
        "    training_score = cross_val_score(classifier, X_train, y_train, cv=5,scoring='f1')\n",
        "    print(\"Classifiers: \", classifier.__class__.__name__, \"Has a training score of\", round(training_score.mean(), 2) * 100, \"%  F1 score\")\n",
        "    pred= classifier.predict(X_test) # 197 records test\n",
        "    f1= f1_score(y_test,pred)\n",
        "    class_metric[classifier.__class__.__name__]=f1\n",
        "print(\"F1 Score on test data is: \",class_metric)"
      ]
    },
    {
      "cell_type": "code",
      "execution_count": 31,
      "metadata": {
        "colab": {
          "base_uri": "https://localhost:8080/"
        },
        "id": "UML3MpmfG8t_",
        "outputId": "f8dfeaa3-21c6-4f3f-e5eb-5c086fdbf700"
      },
      "outputs": [
        {
          "output_type": "stream",
          "name": "stdout",
          "text": [
            "(98989, 31)\n"
          ]
        }
      ],
      "source": [
        "### The result obtained is from the undersampled data. Lets check how the model performs on unseen data\n",
        "\n",
        "test1= df.drop(X_train.index) ## minus 787 records \n",
        "print(test1.shape)\n",
        "#print(test1.head(5))"
      ]
    },
    {
      "cell_type": "code",
      "execution_count": 32,
      "metadata": {
        "colab": {
          "base_uri": "https://localhost:8080/"
        },
        "id": "_1HEIx3RG8t_",
        "outputId": "40c776fc-001b-471d-f53b-767118cd7acc"
      },
      "outputs": [
        {
          "output_type": "execute_result",
          "data": {
            "text/plain": [
              "array([[97674,  1205],\n",
              "       [    5,   105]])"
            ]
          },
          "metadata": {},
          "execution_count": 32
        }
      ],
      "source": [
        "clf= GradientBoostingClassifier()\n",
        "clf.fit(X_train, y_train) #trained on 787 records\n",
        "test=test1.drop('Class',axis=1)\n",
        "confusion_matrix(test1.loc[:,'Class'],clf.predict(test)) ## testing on 98989"
      ]
    },
    {
      "cell_type": "code",
      "execution_count": 33,
      "metadata": {
        "colab": {
          "base_uri": "https://localhost:8080/"
        },
        "id": "P6pu0VHgG8t_",
        "outputId": "47068be5-b54a-4535-9f30-efb18f9a74d9"
      },
      "outputs": [
        {
          "output_type": "stream",
          "name": "stdout",
          "text": [
            "0.14788732394366197\n",
            "              precision    recall  f1-score   support\n",
            "\n",
            "           0       1.00      0.99      0.99     98879\n",
            "           1       0.08      0.95      0.15       110\n",
            "\n",
            "    accuracy                           0.99     98989\n",
            "   macro avg       0.54      0.97      0.57     98989\n",
            "weighted avg       1.00      0.99      0.99     98989\n",
            "\n"
          ]
        }
      ],
      "source": [
        "print(f1_score(test1.loc[:,'Class'],clf.predict(test)))\n",
        "print(classification_report(test1.loc[:,'Class'],clf.predict(test)))"
      ]
    },
    {
      "cell_type": "markdown",
      "metadata": {
        "id": "AcH5RIrXG8t_"
      },
      "source": [
        "We got a good result but this might not be reliable as we have undersampled the data before the model training. In order to not bias/ influence the\n",
        "result, under sampling of train should be done within the cross validation\n",
        "loop but not like undersampling and then crossvalidation"
      ]
    },
    {
      "cell_type": "code",
      "execution_count": 34,
      "metadata": {
        "id": "2UkvDRf2G8uA"
      },
      "outputs": [],
      "source": [
        "sss = StratifiedKFold(n_splits=5, random_state=None, shuffle=False)"
      ]
    },
    {
      "cell_type": "code",
      "execution_count": 35,
      "metadata": {
        "colab": {
          "base_uri": "https://localhost:8080/"
        },
        "id": "r57Fvc2TG8uA",
        "outputId": "53bae8de-fac1-4b77-cde9-dadf42b53afd"
      },
      "outputs": [
        {
          "output_type": "stream",
          "name": "stdout",
          "text": [
            "(99776, 31)\n"
          ]
        }
      ],
      "source": [
        "print(df.shape)"
      ]
    },
    {
      "cell_type": "markdown",
      "metadata": {
        "id": "ZtuK2fs8PlyR"
      },
      "source": [
        "We need to do a stratified kfold of 5 splits of the data: 5 trains 5 test\n",
        "At each step 1 train data taken, undersampled, built the model and\n",
        "test it on test data. This process repeats 5 times since k=5 her"
      ]
    },
    {
      "cell_type": "code",
      "execution_count": 36,
      "metadata": {
        "colab": {
          "base_uri": "https://localhost:8080/"
        },
        "id": "GNDpd9GHG8uA",
        "outputId": "8ab7a4e8-f2b3-402d-f90f-b5d6fb99179a"
      },
      "outputs": [
        {
          "output_type": "stream",
          "name": "stdout",
          "text": [
            "Train: (79820,) Test: (19956,)\n",
            "Train: (79821,) Test: (19955,)\n",
            "Train: (79821,) Test: (19955,)\n",
            "Train: (79821,) Test: (19955,)\n",
            "Train: (79821,) Test: (19955,)\n",
            "CPU times: user 22.1 ms, sys: 978 µs, total: 23.1 ms\n",
            "Wall time: 20.7 ms\n"
          ]
        }
      ],
      "source": [
        "%%time\n",
        "X = df.drop('Class', axis=1)\n",
        "y = df['Class']\n",
        "for train_index, test_index in sss.split(X, y):\n",
        "    print(\"Train:\", train_index.shape, \"Test:\", test_index.shape)"
      ]
    },
    {
      "cell_type": "code",
      "execution_count": 37,
      "metadata": {
        "id": "aKgw9xa0U0Ig"
      },
      "outputs": [],
      "source": [
        "from imblearn.under_sampling import NearMiss"
      ]
    },
    {
      "cell_type": "code",
      "execution_count": 38,
      "metadata": {
        "colab": {
          "base_uri": "https://localhost:8080/"
        },
        "id": "wnrvvvYEG8uA",
        "outputId": "ce118695-0ad9-4c6e-bc26-f1ade8ee1682"
      },
      "outputs": [
        {
          "output_type": "stream",
          "name": "stdout",
          "text": [
            "train samples are (79820, 30)  and test samples are (19956, 30)\n",
            "NearMiss Label Distribution: Counter({0: 3930, 1: 393})\n",
            "(4323, 30) (4323,)\n",
            "19956 (19956,)\n",
            "[[19619   238]\n",
            " [    1    98]]\n",
            "              precision    recall  f1-score   support\n",
            "\n",
            "           0       1.00      0.99      0.99     19857\n",
            "           1       0.29      0.99      0.45        99\n",
            "\n",
            "    accuracy                           0.99     19956\n",
            "   macro avg       0.65      0.99      0.72     19956\n",
            "weighted avg       1.00      0.99      0.99     19956\n",
            "\n",
            "\n",
            "\n",
            "train samples are (79821, 30)  and test samples are (19955, 30)\n",
            "NearMiss Label Distribution: Counter({0: 3940, 1: 394})\n",
            "(4334, 30) (4334,)\n",
            "19955 (19955,)\n",
            "[[19616   241]\n",
            " [    1    97]]\n",
            "              precision    recall  f1-score   support\n",
            "\n",
            "           0       1.00      0.99      0.99     19857\n",
            "           1       0.29      0.99      0.44        98\n",
            "\n",
            "    accuracy                           0.99     19955\n",
            "   macro avg       0.64      0.99      0.72     19955\n",
            "weighted avg       1.00      0.99      0.99     19955\n",
            "\n",
            "\n",
            "\n",
            "train samples are (79821, 30)  and test samples are (19955, 30)\n",
            "NearMiss Label Distribution: Counter({0: 3940, 1: 394})\n",
            "(4334, 30) (4334,)\n",
            "19955 (19955,)\n",
            "[[19614   243]\n",
            " [    1    97]]\n",
            "              precision    recall  f1-score   support\n",
            "\n",
            "           0       1.00      0.99      0.99     19857\n",
            "           1       0.29      0.99      0.44        98\n",
            "\n",
            "    accuracy                           0.99     19955\n",
            "   macro avg       0.64      0.99      0.72     19955\n",
            "weighted avg       1.00      0.99      0.99     19955\n",
            "\n",
            "\n",
            "\n",
            "train samples are (79821, 30)  and test samples are (19955, 30)\n",
            "NearMiss Label Distribution: Counter({0: 3940, 1: 394})\n",
            "(4334, 30) (4334,)\n",
            "19955 (19955,)\n",
            "[[19632   225]\n",
            " [    2    96]]\n",
            "              precision    recall  f1-score   support\n",
            "\n",
            "           0       1.00      0.99      0.99     19857\n",
            "           1       0.30      0.98      0.46        98\n",
            "\n",
            "    accuracy                           0.99     19955\n",
            "   macro avg       0.65      0.98      0.73     19955\n",
            "weighted avg       1.00      0.99      0.99     19955\n",
            "\n",
            "\n",
            "\n",
            "train samples are (79821, 30)  and test samples are (19955, 30)\n",
            "NearMiss Label Distribution: Counter({0: 3930, 1: 393})\n",
            "(4323, 30) (4323,)\n",
            "19955 (19955,)\n",
            "[[19598   258]\n",
            " [    0    99]]\n",
            "              precision    recall  f1-score   support\n",
            "\n",
            "           0       1.00      0.99      0.99     19856\n",
            "           1       0.28      1.00      0.43        99\n",
            "\n",
            "    accuracy                           0.99     19955\n",
            "   macro avg       0.64      0.99      0.71     19955\n",
            "weighted avg       1.00      0.99      0.99     19955\n",
            "\n",
            "\n",
            "\n",
            "CPU times: user 3.87 s, sys: 565 ms, total: 4.44 s\n",
            "Wall time: 3.52 s\n"
          ]
        }
      ],
      "source": [
        "%%time\n",
        "from sklearn.pipeline import make_pipeline\n",
        "from imblearn.pipeline import make_pipeline as imbalanced_make_pipeline\n",
        "for train, test in sss.split(X,y):\n",
        "    print(\"train samples are\", X.iloc[train].shape, \" and test samples are\",X.iloc[test].shape)\n",
        "    X_nearmiss, y_nearmiss = NearMiss(sampling_strategy=1/10).fit_resample(X.iloc[train], y.iloc[train])\n",
        "    print('NearMiss Label Distribution: {}'.format(Counter(y_nearmiss)))\n",
        "    print(X_nearmiss.shape, y_nearmiss.shape)\n",
        "    DecisionTreeClassifier().fit(X_nearmiss, y_nearmiss)\n",
        "    pred_test=clf.predict(X.iloc[test])\n",
        "    print(len(pred_test),y.iloc[test].shape)\n",
        "    print(confusion_matrix(y.iloc[test],pred_test))\n",
        "    print(classification_report(y.iloc[test],pred_test))\n",
        "    print(\"\\n\")\n",
        "   \n",
        "    "
      ]
    },
    {
      "cell_type": "code",
      "execution_count": 39,
      "metadata": {
        "colab": {
          "base_uri": "https://localhost:8080/"
        },
        "id": "_LBMrGUJG8uA",
        "outputId": "75878f9d-f48d-4b61-e49f-48a6eb04624a"
      },
      "outputs": [
        {
          "output_type": "stream",
          "name": "stdout",
          "text": [
            "0.02266556486837445\n",
            "              precision    recall  f1-score   support\n",
            "\n",
            "           0       1.00      0.58      0.74     19857\n",
            "           1       0.01      0.97      0.02        99\n",
            "\n",
            "    accuracy                           0.59     19956\n",
            "   macro avg       0.51      0.78      0.38     19956\n",
            "weighted avg       0.99      0.59      0.73     19956\n",
            "\n",
            "0.02004339291249096\n",
            "              precision    recall  f1-score   support\n",
            "\n",
            "           0       1.00      0.52      0.69     19857\n",
            "           1       0.01      0.99      0.02        98\n",
            "\n",
            "    accuracy                           0.52     19955\n",
            "   macro avg       0.51      0.76      0.35     19955\n",
            "weighted avg       1.00      0.52      0.68     19955\n",
            "\n",
            "0.02008158142453718\n",
            "              precision    recall  f1-score   support\n",
            "\n",
            "           0       1.00      0.53      0.69     19857\n",
            "           1       0.01      0.98      0.02        98\n",
            "\n",
            "    accuracy                           0.53     19955\n",
            "   macro avg       0.50      0.75      0.36     19955\n",
            "weighted avg       0.99      0.53      0.69     19955\n",
            "\n",
            "0.025909592061742006\n",
            "              precision    recall  f1-score   support\n",
            "\n",
            "           0       1.00      0.64      0.78     19857\n",
            "           1       0.01      0.96      0.03        98\n",
            "\n",
            "    accuracy                           0.65     19955\n",
            "   macro avg       0.51      0.80      0.40     19955\n",
            "weighted avg       0.99      0.65      0.78     19955\n",
            "\n",
            "0.032098343862045416\n",
            "              precision    recall  f1-score   support\n",
            "\n",
            "           0       1.00      0.71      0.83     19856\n",
            "           1       0.02      0.95      0.03        99\n",
            "\n",
            "    accuracy                           0.72     19955\n",
            "   macro avg       0.51      0.83      0.43     19955\n",
            "weighted avg       0.99      0.72      0.83     19955\n",
            "\n"
          ]
        }
      ],
      "source": [
        "for train, test in sss.split(X,y):\n",
        "    undersample_pipeline = imbalanced_make_pipeline(NearMiss(sampling_strategy=1/10), DecisionTreeClassifier()) \n",
        "    undersample_model = undersample_pipeline.fit(X.iloc[train],y.iloc[train])\n",
        "    undersample_prediction = undersample_model.predict(X.iloc[test])\n",
        "    print(f1_score(y.iloc[test],undersample_prediction ))\n",
        "    print(classification_report(y.iloc[test],undersample_prediction ))\n",
        "    \n",
        "    "
      ]
    },
    {
      "cell_type": "markdown",
      "metadata": {
        "id": "lZ1A6Kk9ZFtx"
      },
      "source": [
        "Oversampling (increasing the majority class): In this case, we are in\u0002creasing the number of minority class records and then train the models.\n",
        "Use the SMOTE function and apply it under cross validation and get the result"
      ]
    },
    {
      "cell_type": "code",
      "execution_count": 40,
      "metadata": {
        "colab": {
          "base_uri": "https://localhost:8080/"
        },
        "id": "l9-QIFhOG8uB",
        "outputId": "048ac146-231a-4d6a-aa9f-ccdc56c4e2d3"
      },
      "outputs": [
        {
          "output_type": "stream",
          "name": "stdout",
          "text": [
            "train samples are (79820, 30)  and test samples are (19956, 30)\n",
            "SMOTE Label Distribution: Counter({1: 79427, 0: 79427})\n",
            "(158854, 30) (158854,)\n",
            "train samples are (79821, 30)  and test samples are (19955, 30)\n",
            "SMOTE Label Distribution: Counter({0: 79427, 1: 79427})\n",
            "(158854, 30) (158854,)\n",
            "train samples are (79821, 30)  and test samples are (19955, 30)\n",
            "SMOTE Label Distribution: Counter({0: 79427, 1: 79427})\n",
            "(158854, 30) (158854,)\n",
            "train samples are (79821, 30)  and test samples are (19955, 30)\n",
            "SMOTE Label Distribution: Counter({0: 79427, 1: 79427})\n",
            "(158854, 30) (158854,)\n",
            "train samples are (79821, 30)  and test samples are (19955, 30)\n",
            "SMOTE Label Distribution: Counter({0: 79428, 1: 79428})\n",
            "(158856, 30) (158856,)\n"
          ]
        }
      ],
      "source": [
        "for train, test in sss.split(X,y):\n",
        "    print(\"train samples are\", X.iloc[train].shape, \" and test samples are\",X.iloc[test].shape)\n",
        "    X_smote, y_smote = SMOTE().fit_resample(X.iloc[train], y.iloc[train])\n",
        "    print('SMOTE Label Distribution: {}'.format(Counter(y_smote)))\n",
        "    print(X_smote.shape, y_smote.shape)"
      ]
    },
    {
      "cell_type": "code",
      "execution_count": 41,
      "metadata": {
        "colab": {
          "base_uri": "https://localhost:8080/"
        },
        "id": "UHM_iJfpG8uB",
        "outputId": "f1435ad9-04bd-4cca-dd83-a2a0a017d8db"
      },
      "outputs": [
        {
          "output_type": "stream",
          "name": "stdout",
          "text": [
            "train samples are (79820, 30)  and test samples are (19956, 30)\n",
            "0.6081081081081081\n",
            "              precision    recall  f1-score   support\n",
            "\n",
            "           0       1.00      0.99      1.00     19857\n",
            "           1       0.46      0.91      0.61        99\n",
            "\n",
            "    accuracy                           0.99     19956\n",
            "   macro avg       0.73      0.95      0.80     19956\n",
            "weighted avg       1.00      0.99      1.00     19956\n",
            "\n",
            "[[19750   107]\n",
            " [    9    90]]\n",
            "train samples are (79821, 30)  and test samples are (19955, 30)\n",
            "0.6233766233766234\n",
            "              precision    recall  f1-score   support\n",
            "\n",
            "           0       1.00      0.99      1.00     19857\n",
            "           1       0.46      0.98      0.62        98\n",
            "\n",
            "    accuracy                           0.99     19955\n",
            "   macro avg       0.73      0.99      0.81     19955\n",
            "weighted avg       1.00      0.99      1.00     19955\n",
            "\n",
            "[[19743   114]\n",
            " [    2    96]]\n",
            "train samples are (79821, 30)  and test samples are (19955, 30)\n",
            "0.6178343949044586\n",
            "              precision    recall  f1-score   support\n",
            "\n",
            "           0       1.00      0.99      1.00     19857\n",
            "           1       0.45      0.99      0.62        98\n",
            "\n",
            "    accuracy                           0.99     19955\n",
            "   macro avg       0.72      0.99      0.81     19955\n",
            "weighted avg       1.00      0.99      1.00     19955\n",
            "\n",
            "[[19738   119]\n",
            " [    1    97]]\n",
            "train samples are (79821, 30)  and test samples are (19955, 30)\n",
            "0.6451612903225807\n",
            "              precision    recall  f1-score   support\n",
            "\n",
            "           0       1.00      1.00      1.00     19857\n",
            "           1       0.50      0.92      0.65        98\n",
            "\n",
            "    accuracy                           1.00     19955\n",
            "   macro avg       0.75      0.96      0.82     19955\n",
            "weighted avg       1.00      1.00      1.00     19955\n",
            "\n",
            "[[19766    91]\n",
            " [    8    90]]\n",
            "train samples are (79821, 30)  and test samples are (19955, 30)\n",
            "0.6241610738255033\n",
            "              precision    recall  f1-score   support\n",
            "\n",
            "           0       1.00      0.99      1.00     19856\n",
            "           1       0.47      0.94      0.62        99\n",
            "\n",
            "    accuracy                           0.99     19955\n",
            "   macro avg       0.73      0.97      0.81     19955\n",
            "weighted avg       1.00      0.99      1.00     19955\n",
            "\n",
            "[[19750   106]\n",
            " [    6    93]]\n",
            "CPU times: user 17min 5s, sys: 1.53 s, total: 17min 6s\n",
            "Wall time: 17min 4s\n"
          ]
        }
      ],
      "source": [
        "%%time\n",
        "from imblearn.over_sampling import SMOTE\n",
        "from sklearn.pipeline import make_pipeline\n",
        "from imblearn.pipeline import make_pipeline as imbalanced_make_pipeline\n",
        "for train, test in sss.split(X,y):\n",
        "    print(\"train samples are\", X.iloc[train].shape, \" and test samples are\",X.iloc[test].shape)\n",
        "    undersample_pipeline = imbalanced_make_pipeline(SMOTE(1/1), clf) \n",
        "    undersample_model = undersample_pipeline.fit(X.iloc[train], y.iloc[train])\n",
        "    undersample_prediction = undersample_model.predict(X.iloc[test])\n",
        "    print(f1_score(y.iloc[test],undersample_prediction ))\n",
        "    print(classification_report(y.iloc[test],undersample_prediction ))\n",
        "    print(confusion_matrix(y.iloc[test],undersample_prediction))"
      ]
    }
  ],
  "metadata": {
    "colab": {
      "provenance": []
    },
    "kernelspec": {
      "display_name": "Python 3",
      "language": "python",
      "name": "python3"
    },
    "language_info": {
      "codemirror_mode": {
        "name": "ipython",
        "version": 3
      },
      "file_extension": ".py",
      "mimetype": "text/x-python",
      "name": "python",
      "nbconvert_exporter": "python",
      "pygments_lexer": "ipython3",
      "version": "3.6.4"
    }
  },
  "nbformat": 4,
  "nbformat_minor": 0
}